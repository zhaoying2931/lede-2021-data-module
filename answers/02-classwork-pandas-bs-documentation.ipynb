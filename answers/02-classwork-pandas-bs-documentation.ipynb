{
 "cells": [
  {
   "cell_type": "markdown",
   "metadata": {},
   "source": [
    "# Data module class 2\n",
    "Reading documentation: Pandas and BeautifulSoup"
   ]
  },
  {
   "cell_type": "code",
   "execution_count": 21,
   "metadata": {},
   "outputs": [],
   "source": [
    "import pandas as pd\n",
    "from bs4 import BeautifulSoup\n",
    "import requests"
   ]
  },
  {
   "cell_type": "code",
   "execution_count": 86,
   "metadata": {},
   "outputs": [],
   "source": [
    "# download and import BeautifulSoup if you need to\n",
    "# !pip install beautifulsoup4"
   ]
  },
  {
   "cell_type": "markdown",
   "metadata": {},
   "source": [
    "## Pandas\n",
    "### Terminology reference\n",
    "#### Data structures\n",
    "##### 1-dimensional data (create Series)\n",
    "\n",
    "|pandas abbreviation|definition|example|\n",
    "|---|---|---|\n",
    "|dict|Python dictionary|`{'a': 'value', 'b': 'value'}`|\n",
    "|ndarray|N-dimensional array (can be 1 or 2 dimensional)|`[0, 1, 2, 3]`|\n",
    "|scalar|Single value|`100`|\n",
    "|list|Python list|`[0, 1, 2, 3]`|\n",
    "\n",
    "##### 2-dimensional data (create DataFrames)\n",
    "\n",
    "|pandas term|example|\n",
    "|---|---|\n",
    "|ndarray|`[[0, 1, 2, 3], [4, 5, 6, 7]]`|\n",
    "|dict of ndarrays|`{'one': [1, 2, 3, 4], 'two': [4, 3, 2, 1]}`|\n",
    "|list of dicts|`[{'id': 1, 'info': 'text'}, {'id': 2, 'info': 'more text'}]`|"
   ]
  },
  {
   "cell_type": "markdown",
   "metadata": {},
   "source": [
    "#### How do these look when loaded in pandas?\n",
    "[Taken from the Pandas User Guide](https://pandas.pydata.org/docs/user_guide/dsintro.html)"
   ]
  },
  {
   "cell_type": "code",
   "execution_count": 55,
   "metadata": {},
   "outputs": [
    {
     "data": {
      "text/plain": [
       "a    value\n",
       "b    value\n",
       "dtype: object"
      ]
     },
     "execution_count": 55,
     "metadata": {},
     "output_type": "execute_result"
    }
   ],
   "source": [
    "pd.Series({'a': 'value', 'b': 'value'})"
   ]
  },
  {
   "cell_type": "code",
   "execution_count": 56,
   "metadata": {},
   "outputs": [
    {
     "data": {
      "text/plain": [
       "0    0\n",
       "1    1\n",
       "2    2\n",
       "3    3\n",
       "dtype: int64"
      ]
     },
     "execution_count": 56,
     "metadata": {},
     "output_type": "execute_result"
    }
   ],
   "source": [
    "pd.Series([0, 1, 2, 3])"
   ]
  },
  {
   "cell_type": "code",
   "execution_count": 57,
   "metadata": {},
   "outputs": [
    {
     "data": {
      "text/plain": [
       "0    5\n",
       "dtype: int64"
      ]
     },
     "execution_count": 57,
     "metadata": {},
     "output_type": "execute_result"
    }
   ],
   "source": [
    "pd.Series(5)"
   ]
  },
  {
   "cell_type": "code",
   "execution_count": 80,
   "metadata": {},
   "outputs": [
    {
     "data": {
      "text/html": [
       "<div>\n",
       "<style scoped>\n",
       "    .dataframe tbody tr th:only-of-type {\n",
       "        vertical-align: middle;\n",
       "    }\n",
       "\n",
       "    .dataframe tbody tr th {\n",
       "        vertical-align: top;\n",
       "    }\n",
       "\n",
       "    .dataframe thead th {\n",
       "        text-align: right;\n",
       "    }\n",
       "</style>\n",
       "<table border=\"1\" class=\"dataframe\">\n",
       "  <thead>\n",
       "    <tr style=\"text-align: right;\">\n",
       "      <th></th>\n",
       "      <th>id</th>\n",
       "      <th>info</th>\n",
       "    </tr>\n",
       "  </thead>\n",
       "  <tbody>\n",
       "    <tr>\n",
       "      <th>0</th>\n",
       "      <td>1</td>\n",
       "      <td>text</td>\n",
       "    </tr>\n",
       "    <tr>\n",
       "      <th>1</th>\n",
       "      <td>2</td>\n",
       "      <td>more text</td>\n",
       "    </tr>\n",
       "  </tbody>\n",
       "</table>\n",
       "</div>"
      ],
      "text/plain": [
       "   id       info\n",
       "0   1       text\n",
       "1   2  more text"
      ]
     },
     "execution_count": 80,
     "metadata": {},
     "output_type": "execute_result"
    }
   ],
   "source": [
    "pd.DataFrame([{'id': 1, 'info': 'text'}, {'id': 2, 'info': 'more text'}])"
   ]
  },
  {
   "cell_type": "code",
   "execution_count": 81,
   "metadata": {},
   "outputs": [
    {
     "data": {
      "text/html": [
       "<div>\n",
       "<style scoped>\n",
       "    .dataframe tbody tr th:only-of-type {\n",
       "        vertical-align: middle;\n",
       "    }\n",
       "\n",
       "    .dataframe tbody tr th {\n",
       "        vertical-align: top;\n",
       "    }\n",
       "\n",
       "    .dataframe thead th {\n",
       "        text-align: right;\n",
       "    }\n",
       "</style>\n",
       "<table border=\"1\" class=\"dataframe\">\n",
       "  <thead>\n",
       "    <tr style=\"text-align: right;\">\n",
       "      <th></th>\n",
       "      <th>0</th>\n",
       "      <th>1</th>\n",
       "      <th>2</th>\n",
       "      <th>3</th>\n",
       "    </tr>\n",
       "  </thead>\n",
       "  <tbody>\n",
       "    <tr>\n",
       "      <th>0</th>\n",
       "      <td>0</td>\n",
       "      <td>1</td>\n",
       "      <td>2</td>\n",
       "      <td>3</td>\n",
       "    </tr>\n",
       "    <tr>\n",
       "      <th>1</th>\n",
       "      <td>4</td>\n",
       "      <td>5</td>\n",
       "      <td>6</td>\n",
       "      <td>7</td>\n",
       "    </tr>\n",
       "  </tbody>\n",
       "</table>\n",
       "</div>"
      ],
      "text/plain": [
       "   0  1  2  3\n",
       "0  0  1  2  3\n",
       "1  4  5  6  7"
      ]
     },
     "execution_count": 81,
     "metadata": {},
     "output_type": "execute_result"
    }
   ],
   "source": [
    "pd.DataFrame([[0, 1, 2, 3], [4, 5, 6, 7]])"
   ]
  },
  {
   "cell_type": "markdown",
   "metadata": {},
   "source": [
    "#### Other terms\n",
    "[See pd.DataFrame() as an example](https://pandas.pydata.org/docs/reference/api/pandas.to_datetime.html#pandas.to_datetime)\n",
    "\n",
    "- parameters\n",
    "    - Information that a function accepts \n",
    "- args\n",
    "    - Arguments that are required (or things that the function needs in order to run)\n",
    "    - i.e. data for your DataFrame\n",
    "- kwargs (even though Pandas does not identify them as such)\n",
    "    - Keyword arguments: optional arguments not necessary for a function to run, but will tell the function to behave in a different way than the default. Called \"keyword\" arguments because you have to identify the name of the variable\n",
    "    - i.e. errors='raise'"
   ]
  },
  {
   "cell_type": "markdown",
   "metadata": {},
   "source": [
    "### 1. Let's practice input/output with Pandas with the following links.\n",
    "Use Panda's [IO Tools](https://pandas.pydata.org/pandas-docs/stable/user_guide/io.html) section of their documentation to grab these datasets\n",
    "\n",
    "- [Avengers Wikia data - FiveThirtyEight](https://raw.githubusercontent.com/fivethirtyeight/data/master/comic-characters/marvel-wikia-data.csv) | [Documentation here](https://github.com/fivethirtyeight/data/tree/master/avengers)\n",
    "- [List of sovereign states - Wikipedia](https://en.wikipedia.org/wiki/List_of_sovereign_states)\n",
    "- [Homeless housing - LA Times](https://raw.githubusercontent.com/kyleykim/R_Scripts/master/la-me-ln-hhh-unequal/revised_data/master_data_geocoded.csv) | [Documentation](https://github.com/kyleykim/R_Scripts/tree/master/la-me-ln-hhh-unequal)"
   ]
  },
  {
   "cell_type": "code",
   "execution_count": 87,
   "metadata": {},
   "outputs": [],
   "source": [
    "df_avengers = pd.read_csv('https://raw.githubusercontent.com/fivethirtyeight/data/master/comic-characters/marvel-wikia-data.csv')"
   ]
  },
  {
   "cell_type": "code",
   "execution_count": 88,
   "metadata": {},
   "outputs": [],
   "source": [
    "df_countries = pd.read_html('https://en.wikipedia.org/wiki/List_of_sovereign_states')"
   ]
  },
  {
   "cell_type": "code",
   "execution_count": 107,
   "metadata": {},
   "outputs": [],
   "source": [
    "df_homeless_housing = pd.read_csv('https://raw.githubusercontent.com/kyleykim/R_Scripts/master/la-me-ln-hhh-unequal/revised_data/master_data_geocoded.csv')"
   ]
  },
  {
   "cell_type": "markdown",
   "metadata": {},
   "source": [
    "### 2. Let's practice working with missing data and selecting these values\n",
    "#### For each DataFrame, either select all the missing values of one column or select a unique categorical value.\n",
    "The [Indexing and selecting data¶](https://pandas.pydata.org/pandas-docs/stable/user_guide/indexing.html) section of Pandas documentation will help"
   ]
  },
  {
   "cell_type": "markdown",
   "metadata": {},
   "source": [
    "#### a. Avengers"
   ]
  },
  {
   "cell_type": "code",
   "execution_count": 90,
   "metadata": {},
   "outputs": [
    {
     "name": "stdout",
     "output_type": "stream",
     "text": [
      "<class 'pandas.core.frame.DataFrame'>\n",
      "RangeIndex: 16376 entries, 0 to 16375\n",
      "Data columns (total 13 columns):\n",
      " #   Column            Non-Null Count  Dtype  \n",
      "---  ------            --------------  -----  \n",
      " 0   page_id           16376 non-null  int64  \n",
      " 1   name              16376 non-null  object \n",
      " 2   urlslug           16376 non-null  object \n",
      " 3   ID                12606 non-null  object \n",
      " 4   ALIGN             13564 non-null  object \n",
      " 5   EYE               6609 non-null   object \n",
      " 6   HAIR              12112 non-null  object \n",
      " 7   SEX               15522 non-null  object \n",
      " 8   GSM               90 non-null     object \n",
      " 9   ALIVE             16373 non-null  object \n",
      " 10  APPEARANCES       15280 non-null  float64\n",
      " 11  FIRST APPEARANCE  15561 non-null  object \n",
      " 12  Year              15561 non-null  float64\n",
      "dtypes: float64(2), int64(1), object(10)\n",
      "memory usage: 1.6+ MB\n"
     ]
    }
   ],
   "source": [
    "df_avengers.info()"
   ]
  },
  {
   "cell_type": "code",
   "execution_count": 91,
   "metadata": {},
   "outputs": [
    {
     "data": {
      "text/plain": [
       "array(['Secret Identity', 'Public Identity', 'No Dual Identity',\n",
       "       'Known to Authorities Identity', nan], dtype=object)"
      ]
     },
     "execution_count": 91,
     "metadata": {},
     "output_type": "execute_result"
    }
   ],
   "source": [
    "# select null values from each column that might be missing values\n",
    "df_avengers['ID'].unique()"
   ]
  },
  {
   "cell_type": "code",
   "execution_count": 92,
   "metadata": {},
   "outputs": [
    {
     "data": {
      "text/html": [
       "<div>\n",
       "<style scoped>\n",
       "    .dataframe tbody tr th:only-of-type {\n",
       "        vertical-align: middle;\n",
       "    }\n",
       "\n",
       "    .dataframe tbody tr th {\n",
       "        vertical-align: top;\n",
       "    }\n",
       "\n",
       "    .dataframe thead th {\n",
       "        text-align: right;\n",
       "    }\n",
       "</style>\n",
       "<table border=\"1\" class=\"dataframe\">\n",
       "  <thead>\n",
       "    <tr style=\"text-align: right;\">\n",
       "      <th></th>\n",
       "      <th>page_id</th>\n",
       "      <th>name</th>\n",
       "      <th>urlslug</th>\n",
       "      <th>ID</th>\n",
       "      <th>ALIGN</th>\n",
       "      <th>EYE</th>\n",
       "      <th>HAIR</th>\n",
       "      <th>SEX</th>\n",
       "      <th>GSM</th>\n",
       "      <th>ALIVE</th>\n",
       "      <th>APPEARANCES</th>\n",
       "      <th>FIRST APPEARANCE</th>\n",
       "      <th>Year</th>\n",
       "    </tr>\n",
       "  </thead>\n",
       "  <tbody>\n",
       "    <tr>\n",
       "      <th>467</th>\n",
       "      <td>2028</td>\n",
       "      <td>Arthur Parks (Earth-616)</td>\n",
       "      <td>\\/Arthur_Parks_(Earth-616)</td>\n",
       "      <td>NaN</td>\n",
       "      <td>Bad Characters</td>\n",
       "      <td>Variable Eyes</td>\n",
       "      <td>Variable Hair</td>\n",
       "      <td>Male Characters</td>\n",
       "      <td>NaN</td>\n",
       "      <td>Living Characters</td>\n",
       "      <td>88.0</td>\n",
       "      <td>Nov-66</td>\n",
       "      <td>1966.0</td>\n",
       "    </tr>\n",
       "    <tr>\n",
       "      <th>536</th>\n",
       "      <td>65598</td>\n",
       "      <td>Kathryn Cushing (Earth-616)</td>\n",
       "      <td>\\/Kathryn_Cushing_(Earth-616)</td>\n",
       "      <td>NaN</td>\n",
       "      <td>NaN</td>\n",
       "      <td>Blue Eyes</td>\n",
       "      <td>Blond Hair</td>\n",
       "      <td>Female Characters</td>\n",
       "      <td>NaN</td>\n",
       "      <td>Living Characters</td>\n",
       "      <td>72.0</td>\n",
       "      <td>Nov-85</td>\n",
       "      <td>1985.0</td>\n",
       "    </tr>\n",
       "    <tr>\n",
       "      <th>573</th>\n",
       "      <td>2159</td>\n",
       "      <td>Calvin Rankin (Earth-616)</td>\n",
       "      <td>\\/Calvin_Rankin_(Earth-616)</td>\n",
       "      <td>NaN</td>\n",
       "      <td>Good Characters</td>\n",
       "      <td>Brown Eyes</td>\n",
       "      <td>Brown Hair</td>\n",
       "      <td>Male Characters</td>\n",
       "      <td>NaN</td>\n",
       "      <td>Living Characters</td>\n",
       "      <td>67.0</td>\n",
       "      <td>Apr-66</td>\n",
       "      <td>1966.0</td>\n",
       "    </tr>\n",
       "    <tr>\n",
       "      <th>577</th>\n",
       "      <td>2526</td>\n",
       "      <td>Shadow King (Earth-616)</td>\n",
       "      <td>\\/Shadow_King_(Earth-616)</td>\n",
       "      <td>NaN</td>\n",
       "      <td>Bad Characters</td>\n",
       "      <td>Red Eyes</td>\n",
       "      <td>No Hair</td>\n",
       "      <td>Male Characters</td>\n",
       "      <td>NaN</td>\n",
       "      <td>Living Characters</td>\n",
       "      <td>67.0</td>\n",
       "      <td>Jan-79</td>\n",
       "      <td>1979.0</td>\n",
       "    </tr>\n",
       "    <tr>\n",
       "      <th>605</th>\n",
       "      <td>16087</td>\n",
       "      <td>Arthur Stacy (Earth-616)</td>\n",
       "      <td>\\/Arthur_Stacy_(Earth-616)</td>\n",
       "      <td>NaN</td>\n",
       "      <td>Good Characters</td>\n",
       "      <td>Blue Eyes</td>\n",
       "      <td>Grey Hair</td>\n",
       "      <td>Male Characters</td>\n",
       "      <td>NaN</td>\n",
       "      <td>Living Characters</td>\n",
       "      <td>63.0</td>\n",
       "      <td>Feb-71</td>\n",
       "      <td>1971.0</td>\n",
       "    </tr>\n",
       "    <tr>\n",
       "      <th>...</th>\n",
       "      <td>...</td>\n",
       "      <td>...</td>\n",
       "      <td>...</td>\n",
       "      <td>...</td>\n",
       "      <td>...</td>\n",
       "      <td>...</td>\n",
       "      <td>...</td>\n",
       "      <td>...</td>\n",
       "      <td>...</td>\n",
       "      <td>...</td>\n",
       "      <td>...</td>\n",
       "      <td>...</td>\n",
       "      <td>...</td>\n",
       "    </tr>\n",
       "    <tr>\n",
       "      <th>16353</th>\n",
       "      <td>16296</td>\n",
       "      <td>William Burke (Earth-616)</td>\n",
       "      <td>\\/William_Burke_(Earth-616)</td>\n",
       "      <td>NaN</td>\n",
       "      <td>NaN</td>\n",
       "      <td>NaN</td>\n",
       "      <td>NaN</td>\n",
       "      <td>Male Characters</td>\n",
       "      <td>NaN</td>\n",
       "      <td>Living Characters</td>\n",
       "      <td>NaN</td>\n",
       "      <td>NaN</td>\n",
       "      <td>NaN</td>\n",
       "    </tr>\n",
       "    <tr>\n",
       "      <th>16354</th>\n",
       "      <td>120833</td>\n",
       "      <td>William Falsworth (Earth-616)</td>\n",
       "      <td>\\/William_Falsworth_(Earth-616)</td>\n",
       "      <td>NaN</td>\n",
       "      <td>Good Characters</td>\n",
       "      <td>NaN</td>\n",
       "      <td>NaN</td>\n",
       "      <td>Male Characters</td>\n",
       "      <td>NaN</td>\n",
       "      <td>Deceased Characters</td>\n",
       "      <td>NaN</td>\n",
       "      <td>NaN</td>\n",
       "      <td>NaN</td>\n",
       "    </tr>\n",
       "    <tr>\n",
       "      <th>16365</th>\n",
       "      <td>684262</td>\n",
       "      <td>K'thol (Earth-616)</td>\n",
       "      <td>\\/K%27thol_(Earth-616)</td>\n",
       "      <td>NaN</td>\n",
       "      <td>Good Characters</td>\n",
       "      <td>NaN</td>\n",
       "      <td>NaN</td>\n",
       "      <td>Male Characters</td>\n",
       "      <td>NaN</td>\n",
       "      <td>Deceased Characters</td>\n",
       "      <td>NaN</td>\n",
       "      <td>NaN</td>\n",
       "      <td>NaN</td>\n",
       "    </tr>\n",
       "    <tr>\n",
       "      <th>16370</th>\n",
       "      <td>674414</td>\n",
       "      <td>Phoenix's Shadow (Earth-616)</td>\n",
       "      <td>\\/Phoenix%27s_Shadow_(Earth-616)</td>\n",
       "      <td>NaN</td>\n",
       "      <td>Neutral Characters</td>\n",
       "      <td>NaN</td>\n",
       "      <td>NaN</td>\n",
       "      <td>NaN</td>\n",
       "      <td>NaN</td>\n",
       "      <td>Living Characters</td>\n",
       "      <td>NaN</td>\n",
       "      <td>NaN</td>\n",
       "      <td>NaN</td>\n",
       "    </tr>\n",
       "    <tr>\n",
       "      <th>16375</th>\n",
       "      <td>673702</td>\n",
       "      <td>Yologarch (Earth-616)</td>\n",
       "      <td>\\/Yologarch_(Earth-616)</td>\n",
       "      <td>NaN</td>\n",
       "      <td>Bad Characters</td>\n",
       "      <td>NaN</td>\n",
       "      <td>NaN</td>\n",
       "      <td>NaN</td>\n",
       "      <td>NaN</td>\n",
       "      <td>Living Characters</td>\n",
       "      <td>NaN</td>\n",
       "      <td>NaN</td>\n",
       "      <td>NaN</td>\n",
       "    </tr>\n",
       "  </tbody>\n",
       "</table>\n",
       "<p>3770 rows × 13 columns</p>\n",
       "</div>"
      ],
      "text/plain": [
       "       page_id                           name  \\\n",
       "467       2028       Arthur Parks (Earth-616)   \n",
       "536      65598    Kathryn Cushing (Earth-616)   \n",
       "573       2159      Calvin Rankin (Earth-616)   \n",
       "577       2526        Shadow King (Earth-616)   \n",
       "605      16087       Arthur Stacy (Earth-616)   \n",
       "...        ...                            ...   \n",
       "16353    16296      William Burke (Earth-616)   \n",
       "16354   120833  William Falsworth (Earth-616)   \n",
       "16365   684262             K'thol (Earth-616)   \n",
       "16370   674414   Phoenix's Shadow (Earth-616)   \n",
       "16375   673702          Yologarch (Earth-616)   \n",
       "\n",
       "                                urlslug   ID               ALIGN  \\\n",
       "467          \\/Arthur_Parks_(Earth-616)  NaN      Bad Characters   \n",
       "536       \\/Kathryn_Cushing_(Earth-616)  NaN                 NaN   \n",
       "573         \\/Calvin_Rankin_(Earth-616)  NaN     Good Characters   \n",
       "577           \\/Shadow_King_(Earth-616)  NaN      Bad Characters   \n",
       "605          \\/Arthur_Stacy_(Earth-616)  NaN     Good Characters   \n",
       "...                                 ...  ...                 ...   \n",
       "16353       \\/William_Burke_(Earth-616)  NaN                 NaN   \n",
       "16354   \\/William_Falsworth_(Earth-616)  NaN     Good Characters   \n",
       "16365            \\/K%27thol_(Earth-616)  NaN     Good Characters   \n",
       "16370  \\/Phoenix%27s_Shadow_(Earth-616)  NaN  Neutral Characters   \n",
       "16375           \\/Yologarch_(Earth-616)  NaN      Bad Characters   \n",
       "\n",
       "                 EYE           HAIR                SEX  GSM  \\\n",
       "467    Variable Eyes  Variable Hair    Male Characters  NaN   \n",
       "536        Blue Eyes     Blond Hair  Female Characters  NaN   \n",
       "573       Brown Eyes     Brown Hair    Male Characters  NaN   \n",
       "577         Red Eyes        No Hair    Male Characters  NaN   \n",
       "605        Blue Eyes      Grey Hair    Male Characters  NaN   \n",
       "...              ...            ...                ...  ...   \n",
       "16353            NaN            NaN    Male Characters  NaN   \n",
       "16354            NaN            NaN    Male Characters  NaN   \n",
       "16365            NaN            NaN    Male Characters  NaN   \n",
       "16370            NaN            NaN                NaN  NaN   \n",
       "16375            NaN            NaN                NaN  NaN   \n",
       "\n",
       "                     ALIVE  APPEARANCES FIRST APPEARANCE    Year  \n",
       "467      Living Characters         88.0           Nov-66  1966.0  \n",
       "536      Living Characters         72.0           Nov-85  1985.0  \n",
       "573      Living Characters         67.0           Apr-66  1966.0  \n",
       "577      Living Characters         67.0           Jan-79  1979.0  \n",
       "605      Living Characters         63.0           Feb-71  1971.0  \n",
       "...                    ...          ...              ...     ...  \n",
       "16353    Living Characters          NaN              NaN     NaN  \n",
       "16354  Deceased Characters          NaN              NaN     NaN  \n",
       "16365  Deceased Characters          NaN              NaN     NaN  \n",
       "16370    Living Characters          NaN              NaN     NaN  \n",
       "16375    Living Characters          NaN              NaN     NaN  \n",
       "\n",
       "[3770 rows x 13 columns]"
      ]
     },
     "execution_count": 92,
     "metadata": {},
     "output_type": "execute_result"
    }
   ],
   "source": [
    "df_avengers[df_avengers['ID'].isna()]"
   ]
  },
  {
   "cell_type": "code",
   "execution_count": 95,
   "metadata": {},
   "outputs": [
    {
     "data": {
      "text/plain": [
       "array(['Living Characters', 'Deceased Characters', nan], dtype=object)"
      ]
     },
     "execution_count": 95,
     "metadata": {},
     "output_type": "execute_result"
    }
   ],
   "source": [
    "df_avengers['ALIVE'].unique()"
   ]
  },
  {
   "cell_type": "code",
   "execution_count": 97,
   "metadata": {},
   "outputs": [
    {
     "data": {
      "text/html": [
       "<div>\n",
       "<style scoped>\n",
       "    .dataframe tbody tr th:only-of-type {\n",
       "        vertical-align: middle;\n",
       "    }\n",
       "\n",
       "    .dataframe tbody tr th {\n",
       "        vertical-align: top;\n",
       "    }\n",
       "\n",
       "    .dataframe thead th {\n",
       "        text-align: right;\n",
       "    }\n",
       "</style>\n",
       "<table border=\"1\" class=\"dataframe\">\n",
       "  <thead>\n",
       "    <tr style=\"text-align: right;\">\n",
       "      <th></th>\n",
       "      <th>page_id</th>\n",
       "      <th>name</th>\n",
       "      <th>urlslug</th>\n",
       "      <th>ID</th>\n",
       "      <th>ALIGN</th>\n",
       "      <th>EYE</th>\n",
       "      <th>HAIR</th>\n",
       "      <th>SEX</th>\n",
       "      <th>GSM</th>\n",
       "      <th>ALIVE</th>\n",
       "      <th>APPEARANCES</th>\n",
       "      <th>FIRST APPEARANCE</th>\n",
       "      <th>Year</th>\n",
       "    </tr>\n",
       "  </thead>\n",
       "  <tbody>\n",
       "    <tr>\n",
       "      <th>16293</th>\n",
       "      <td>541449</td>\n",
       "      <td>Mj7711</td>\n",
       "      <td>\\/User:Mj7711</td>\n",
       "      <td>NaN</td>\n",
       "      <td>NaN</td>\n",
       "      <td>NaN</td>\n",
       "      <td>NaN</td>\n",
       "      <td>NaN</td>\n",
       "      <td>NaN</td>\n",
       "      <td>NaN</td>\n",
       "      <td>NaN</td>\n",
       "      <td>NaN</td>\n",
       "      <td>NaN</td>\n",
       "    </tr>\n",
       "    <tr>\n",
       "      <th>16329</th>\n",
       "      <td>714409</td>\n",
       "      <td>Sharjeel786</td>\n",
       "      <td>\\/User:Sharjeel786</td>\n",
       "      <td>NaN</td>\n",
       "      <td>NaN</td>\n",
       "      <td>NaN</td>\n",
       "      <td>NaN</td>\n",
       "      <td>NaN</td>\n",
       "      <td>NaN</td>\n",
       "      <td>NaN</td>\n",
       "      <td>NaN</td>\n",
       "      <td>NaN</td>\n",
       "      <td>NaN</td>\n",
       "    </tr>\n",
       "    <tr>\n",
       "      <th>16347</th>\n",
       "      <td>462671</td>\n",
       "      <td>TOR\\/test</td>\n",
       "      <td>\\/User:TOR\\/test</td>\n",
       "      <td>NaN</td>\n",
       "      <td>NaN</td>\n",
       "      <td>NaN</td>\n",
       "      <td>NaN</td>\n",
       "      <td>NaN</td>\n",
       "      <td>NaN</td>\n",
       "      <td>NaN</td>\n",
       "      <td>NaN</td>\n",
       "      <td>NaN</td>\n",
       "      <td>NaN</td>\n",
       "    </tr>\n",
       "  </tbody>\n",
       "</table>\n",
       "</div>"
      ],
      "text/plain": [
       "       page_id         name             urlslug   ID ALIGN  EYE HAIR  SEX  \\\n",
       "16293   541449       Mj7711       \\/User:Mj7711  NaN   NaN  NaN  NaN  NaN   \n",
       "16329   714409  Sharjeel786  \\/User:Sharjeel786  NaN   NaN  NaN  NaN  NaN   \n",
       "16347   462671    TOR\\/test    \\/User:TOR\\/test  NaN   NaN  NaN  NaN  NaN   \n",
       "\n",
       "       GSM ALIVE  APPEARANCES FIRST APPEARANCE  Year  \n",
       "16293  NaN   NaN          NaN              NaN   NaN  \n",
       "16329  NaN   NaN          NaN              NaN   NaN  \n",
       "16347  NaN   NaN          NaN              NaN   NaN  "
      ]
     },
     "execution_count": 97,
     "metadata": {},
     "output_type": "execute_result"
    }
   ],
   "source": [
    "df_avengers[df_avengers['ALIVE'].isna()]"
   ]
  },
  {
   "cell_type": "markdown",
   "metadata": {},
   "source": [
    "#### b. countries"
   ]
  },
  {
   "cell_type": "code",
   "execution_count": 99,
   "metadata": {},
   "outputs": [
    {
     "data": {
      "text/html": [
       "<div>\n",
       "<style scoped>\n",
       "    .dataframe tbody tr th:only-of-type {\n",
       "        vertical-align: middle;\n",
       "    }\n",
       "\n",
       "    .dataframe tbody tr th {\n",
       "        vertical-align: top;\n",
       "    }\n",
       "\n",
       "    .dataframe thead th {\n",
       "        text-align: right;\n",
       "    }\n",
       "</style>\n",
       "<table border=\"1\" class=\"dataframe\">\n",
       "  <thead>\n",
       "    <tr style=\"text-align: right;\">\n",
       "      <th></th>\n",
       "      <th>Common and formal names</th>\n",
       "      <th>Membership within the UN System[a]</th>\n",
       "      <th>Sovereignty dispute[b]</th>\n",
       "      <th>Further information on status and recognition of sovereignty[d]</th>\n",
       "    </tr>\n",
       "  </thead>\n",
       "  <tbody>\n",
       "    <tr>\n",
       "      <th>0</th>\n",
       "      <td>NaN</td>\n",
       "      <td>NaN</td>\n",
       "      <td>NaN</td>\n",
       "      <td>NaN</td>\n",
       "    </tr>\n",
       "    <tr>\n",
       "      <th>1</th>\n",
       "      <td>UN member states and observer states ↓</td>\n",
       "      <td>NaN</td>\n",
       "      <td>NaN</td>\n",
       "      <td>NaN</td>\n",
       "    </tr>\n",
       "    <tr>\n",
       "      <th>2</th>\n",
       "      <td>Abkhazia → See Abkhazia listing</td>\n",
       "      <td>Abkhazia → See Abkhazia listing</td>\n",
       "      <td>Abkhazia → See Abkhazia listing</td>\n",
       "      <td>Abkhazia → See Abkhazia listing</td>\n",
       "    </tr>\n",
       "    <tr>\n",
       "      <th>3</th>\n",
       "      <td>Afghanistan – Islamic Republic of Afghanistan</td>\n",
       "      <td>UN member state</td>\n",
       "      <td>NaN</td>\n",
       "      <td>NaN</td>\n",
       "    </tr>\n",
       "    <tr>\n",
       "      <th>4</th>\n",
       "      <td>Albania – Republic of Albania</td>\n",
       "      <td>NaN</td>\n",
       "      <td>NaN</td>\n",
       "      <td>NaN</td>\n",
       "    </tr>\n",
       "    <tr>\n",
       "      <th>...</th>\n",
       "      <td>...</td>\n",
       "      <td>...</td>\n",
       "      <td>...</td>\n",
       "      <td>...</td>\n",
       "    </tr>\n",
       "    <tr>\n",
       "      <th>237</th>\n",
       "      <td>South Ossetia – Republic of South Ossetia–the ...</td>\n",
       "      <td>NaN</td>\n",
       "      <td>Georgia</td>\n",
       "      <td>A de facto independent state,[70] recognised b...</td>\n",
       "    </tr>\n",
       "    <tr>\n",
       "      <th>238</th>\n",
       "      <td>Taiwan – Republic of China[l]</td>\n",
       "      <td>Former UN member and former permanent UN Secur...</td>\n",
       "      <td>People's Republic of China</td>\n",
       "      <td>A state competing (nominally) for recognition ...</td>\n",
       "    </tr>\n",
       "    <tr>\n",
       "      <th>239</th>\n",
       "      <td>Transnistria – Pridnestrovian Moldavian Republic</td>\n",
       "      <td>NaN</td>\n",
       "      <td>Moldova</td>\n",
       "      <td>A de facto independent state,[56] recognised o...</td>\n",
       "    </tr>\n",
       "    <tr>\n",
       "      <th>240</th>\n",
       "      <td>NaN</td>\n",
       "      <td>NaN</td>\n",
       "      <td>NaN</td>\n",
       "      <td>NaN</td>\n",
       "    </tr>\n",
       "    <tr>\n",
       "      <th>241</th>\n",
       "      <td>NaN</td>\n",
       "      <td>NaN</td>\n",
       "      <td>NaN</td>\n",
       "      <td>NaN</td>\n",
       "    </tr>\n",
       "  </tbody>\n",
       "</table>\n",
       "<p>242 rows × 4 columns</p>\n",
       "</div>"
      ],
      "text/plain": [
       "                               Common and formal names  \\\n",
       "0                                                  NaN   \n",
       "1               UN member states and observer states ↓   \n",
       "2                      Abkhazia → See Abkhazia listing   \n",
       "3        Afghanistan – Islamic Republic of Afghanistan   \n",
       "4                        Albania – Republic of Albania   \n",
       "..                                                 ...   \n",
       "237  South Ossetia – Republic of South Ossetia–the ...   \n",
       "238                      Taiwan – Republic of China[l]   \n",
       "239   Transnistria – Pridnestrovian Moldavian Republic   \n",
       "240                                                NaN   \n",
       "241                                                NaN   \n",
       "\n",
       "                    Membership within the UN System[a]  \\\n",
       "0                                                  NaN   \n",
       "1                                                  NaN   \n",
       "2                      Abkhazia → See Abkhazia listing   \n",
       "3                                      UN member state   \n",
       "4                                                  NaN   \n",
       "..                                                 ...   \n",
       "237                                                NaN   \n",
       "238  Former UN member and former permanent UN Secur...   \n",
       "239                                                NaN   \n",
       "240                                                NaN   \n",
       "241                                                NaN   \n",
       "\n",
       "              Sovereignty dispute[b]  \\\n",
       "0                                NaN   \n",
       "1                                NaN   \n",
       "2    Abkhazia → See Abkhazia listing   \n",
       "3                                NaN   \n",
       "4                                NaN   \n",
       "..                               ...   \n",
       "237                          Georgia   \n",
       "238       People's Republic of China   \n",
       "239                          Moldova   \n",
       "240                              NaN   \n",
       "241                              NaN   \n",
       "\n",
       "    Further information on status and recognition of sovereignty[d]  \n",
       "0                                                  NaN               \n",
       "1                                                  NaN               \n",
       "2                      Abkhazia → See Abkhazia listing               \n",
       "3                                                  NaN               \n",
       "4                                                  NaN               \n",
       "..                                                 ...               \n",
       "237  A de facto independent state,[70] recognised b...               \n",
       "238  A state competing (nominally) for recognition ...               \n",
       "239  A de facto independent state,[56] recognised o...               \n",
       "240                                                NaN               \n",
       "241                                                NaN               \n",
       "\n",
       "[242 rows x 4 columns]"
      ]
     },
     "execution_count": 99,
     "metadata": {},
     "output_type": "execute_result"
    }
   ],
   "source": [
    "# there is a list of two DataFrames\n",
    "df_countries[0]"
   ]
  },
  {
   "cell_type": "code",
   "execution_count": 101,
   "metadata": {},
   "outputs": [
    {
     "name": "stdout",
     "output_type": "stream",
     "text": [
      "<class 'pandas.core.frame.DataFrame'>\n",
      "RangeIndex: 242 entries, 0 to 241\n",
      "Data columns (total 4 columns):\n",
      " #   Column                                                           Non-Null Count  Dtype \n",
      "---  ------                                                           --------------  ----- \n",
      " 0   Common and formal names                                          237 non-null    object\n",
      " 1   Membership within the UN System[a]                               36 non-null     object\n",
      " 2   Sovereignty dispute[b]                                           47 non-null     object\n",
      " 3   Further information on status and recognition of sovereignty[d]  134 non-null    object\n",
      "dtypes: object(4)\n",
      "memory usage: 7.7+ KB\n"
     ]
    }
   ],
   "source": [
    "df_countries[0].info()"
   ]
  },
  {
   "cell_type": "code",
   "execution_count": 102,
   "metadata": {},
   "outputs": [
    {
     "data": {
      "text/html": [
       "<div>\n",
       "<style scoped>\n",
       "    .dataframe tbody tr th:only-of-type {\n",
       "        vertical-align: middle;\n",
       "    }\n",
       "\n",
       "    .dataframe tbody tr th {\n",
       "        vertical-align: top;\n",
       "    }\n",
       "\n",
       "    .dataframe thead th {\n",
       "        text-align: right;\n",
       "    }\n",
       "</style>\n",
       "<table border=\"1\" class=\"dataframe\">\n",
       "  <thead>\n",
       "    <tr style=\"text-align: right;\">\n",
       "      <th></th>\n",
       "      <th>Common and formal names</th>\n",
       "      <th>Membership within the UN System[a]</th>\n",
       "      <th>Sovereignty dispute[b]</th>\n",
       "      <th>Further information on status and recognition of sovereignty[d]</th>\n",
       "    </tr>\n",
       "  </thead>\n",
       "  <tbody>\n",
       "    <tr>\n",
       "      <th>0</th>\n",
       "      <td>NaN</td>\n",
       "      <td>NaN</td>\n",
       "      <td>NaN</td>\n",
       "      <td>NaN</td>\n",
       "    </tr>\n",
       "    <tr>\n",
       "      <th>227</th>\n",
       "      <td>NaN</td>\n",
       "      <td>NaN</td>\n",
       "      <td>NaN</td>\n",
       "      <td>NaN</td>\n",
       "    </tr>\n",
       "    <tr>\n",
       "      <th>228</th>\n",
       "      <td>NaN</td>\n",
       "      <td>NaN</td>\n",
       "      <td>NaN</td>\n",
       "      <td>NaN</td>\n",
       "    </tr>\n",
       "    <tr>\n",
       "      <th>240</th>\n",
       "      <td>NaN</td>\n",
       "      <td>NaN</td>\n",
       "      <td>NaN</td>\n",
       "      <td>NaN</td>\n",
       "    </tr>\n",
       "    <tr>\n",
       "      <th>241</th>\n",
       "      <td>NaN</td>\n",
       "      <td>NaN</td>\n",
       "      <td>NaN</td>\n",
       "      <td>NaN</td>\n",
       "    </tr>\n",
       "  </tbody>\n",
       "</table>\n",
       "</div>"
      ],
      "text/plain": [
       "    Common and formal names Membership within the UN System[a]  \\\n",
       "0                       NaN                                NaN   \n",
       "227                     NaN                                NaN   \n",
       "228                     NaN                                NaN   \n",
       "240                     NaN                                NaN   \n",
       "241                     NaN                                NaN   \n",
       "\n",
       "    Sovereignty dispute[b]  \\\n",
       "0                      NaN   \n",
       "227                    NaN   \n",
       "228                    NaN   \n",
       "240                    NaN   \n",
       "241                    NaN   \n",
       "\n",
       "    Further information on status and recognition of sovereignty[d]  \n",
       "0                                                  NaN               \n",
       "227                                                NaN               \n",
       "228                                                NaN               \n",
       "240                                                NaN               \n",
       "241                                                NaN               "
      ]
     },
     "execution_count": 102,
     "metadata": {},
     "output_type": "execute_result"
    }
   ],
   "source": [
    "df_countries[0][df_countries[0]['Common and formal names'].isna()]"
   ]
  },
  {
   "cell_type": "markdown",
   "metadata": {},
   "source": [
    "#### c. LA homeless housing"
   ]
  },
  {
   "cell_type": "code",
   "execution_count": 109,
   "metadata": {},
   "outputs": [
    {
     "name": "stdout",
     "output_type": "stream",
     "text": [
      "<class 'pandas.core.frame.DataFrame'>\n",
      "RangeIndex: 79 entries, 0 to 78\n",
      "Data columns (total 9 columns):\n",
      " #   Column        Non-Null Count  Dtype  \n",
      "---  ------        --------------  -----  \n",
      " 0   project_name  79 non-null     object \n",
      " 1   address       79 non-null     object \n",
      " 2   district_no   79 non-null     int64  \n",
      " 3   units         79 non-null     int64  \n",
      " 4   sh_units      79 non-null     int64  \n",
      " 5   status        79 non-null     object \n",
      " 6   lon           79 non-null     float64\n",
      " 7   lat           79 non-null     float64\n",
      " 8   geoAddress    79 non-null     object \n",
      "dtypes: float64(2), int64(3), object(4)\n",
      "memory usage: 5.7+ KB\n"
     ]
    }
   ],
   "source": [
    "df_homeless_housing.info()"
   ]
  },
  {
   "cell_type": "code",
   "execution_count": 110,
   "metadata": {},
   "outputs": [
    {
     "data": {
      "text/plain": [
       "array(['Already approved', 'Pending City Council approval'], dtype=object)"
      ]
     },
     "execution_count": 110,
     "metadata": {},
     "output_type": "execute_result"
    }
   ],
   "source": [
    "df_homeless_housing['status'].unique()"
   ]
  },
  {
   "cell_type": "code",
   "execution_count": 111,
   "metadata": {},
   "outputs": [
    {
     "data": {
      "text/html": [
       "<div>\n",
       "<style scoped>\n",
       "    .dataframe tbody tr th:only-of-type {\n",
       "        vertical-align: middle;\n",
       "    }\n",
       "\n",
       "    .dataframe tbody tr th {\n",
       "        vertical-align: top;\n",
       "    }\n",
       "\n",
       "    .dataframe thead th {\n",
       "        text-align: right;\n",
       "    }\n",
       "</style>\n",
       "<table border=\"1\" class=\"dataframe\">\n",
       "  <thead>\n",
       "    <tr style=\"text-align: right;\">\n",
       "      <th></th>\n",
       "      <th>project_name</th>\n",
       "      <th>address</th>\n",
       "      <th>district_no</th>\n",
       "      <th>units</th>\n",
       "      <th>sh_units</th>\n",
       "      <th>status</th>\n",
       "      <th>lon</th>\n",
       "      <th>lat</th>\n",
       "      <th>geoAddress</th>\n",
       "    </tr>\n",
       "  </thead>\n",
       "  <tbody>\n",
       "    <tr>\n",
       "      <th>55</th>\n",
       "      <td>La Veranda</td>\n",
       "      <td>2420 E CESAR E CHAVEZ AVE 90033</td>\n",
       "      <td>14</td>\n",
       "      <td>77</td>\n",
       "      <td>38</td>\n",
       "      <td>Pending City Council approval</td>\n",
       "      <td>-118.207147</td>\n",
       "      <td>34.046205</td>\n",
       "      <td>2420 east cesar e chavez avenue, los angeles, ...</td>\n",
       "    </tr>\n",
       "    <tr>\n",
       "      <th>56</th>\n",
       "      <td>Asante Apartments</td>\n",
       "      <td>11001 S BROADWAY 90061</td>\n",
       "      <td>8</td>\n",
       "      <td>55</td>\n",
       "      <td>54</td>\n",
       "      <td>Pending City Council approval</td>\n",
       "      <td>-118.278654</td>\n",
       "      <td>33.935378</td>\n",
       "      <td>11001 s broadway, los angeles, ca 90061, usa</td>\n",
       "    </tr>\n",
       "    <tr>\n",
       "      <th>57</th>\n",
       "      <td>Weingart Tower 1B HHH PSH</td>\n",
       "      <td>554 S SAN PEDRO ST 90013</td>\n",
       "      <td>14</td>\n",
       "      <td>104</td>\n",
       "      <td>83</td>\n",
       "      <td>Pending City Council approval</td>\n",
       "      <td>-118.244668</td>\n",
       "      <td>34.042607</td>\n",
       "      <td>554 san pedro st, los angeles, ca 90013, usa</td>\n",
       "    </tr>\n",
       "    <tr>\n",
       "      <th>58</th>\n",
       "      <td>803 E. 5th Street</td>\n",
       "      <td>803 E 5TH ST 90013</td>\n",
       "      <td>14</td>\n",
       "      <td>95</td>\n",
       "      <td>94</td>\n",
       "      <td>Pending City Council approval</td>\n",
       "      <td>-118.240607</td>\n",
       "      <td>34.042475</td>\n",
       "      <td>803 e 5th st, los angeles, ca 90013, usa</td>\n",
       "    </tr>\n",
       "    <tr>\n",
       "      <th>59</th>\n",
       "      <td>Colorado East</td>\n",
       "      <td>2453 W COLORADO BLVD 90041</td>\n",
       "      <td>14</td>\n",
       "      <td>41</td>\n",
       "      <td>40</td>\n",
       "      <td>Pending City Council approval</td>\n",
       "      <td>-118.220304</td>\n",
       "      <td>34.141138</td>\n",
       "      <td>2453 colorado blvd, los angeles, ca 90041, usa</td>\n",
       "    </tr>\n",
       "    <tr>\n",
       "      <th>60</th>\n",
       "      <td>Watts Works</td>\n",
       "      <td>9502 S COMPTON AVE 90002</td>\n",
       "      <td>15</td>\n",
       "      <td>26</td>\n",
       "      <td>25</td>\n",
       "      <td>Pending City Council approval</td>\n",
       "      <td>-118.245833</td>\n",
       "      <td>33.950543</td>\n",
       "      <td>9502 compton ave, los angeles, ca 90002, usa</td>\n",
       "    </tr>\n",
       "    <tr>\n",
       "      <th>61</th>\n",
       "      <td>Los Lirios Apartments</td>\n",
       "      <td>119 S SOTO ST 90033</td>\n",
       "      <td>14</td>\n",
       "      <td>64</td>\n",
       "      <td>20</td>\n",
       "      <td>Pending City Council approval</td>\n",
       "      <td>-118.210496</td>\n",
       "      <td>34.043400</td>\n",
       "      <td>119 s soto st, los angeles, ca 90033, usa</td>\n",
       "    </tr>\n",
       "    <tr>\n",
       "      <th>62</th>\n",
       "      <td>Enlightenment Plaza - Phase I</td>\n",
       "      <td>316 N JUANITA AVE 90004</td>\n",
       "      <td>13</td>\n",
       "      <td>101</td>\n",
       "      <td>100</td>\n",
       "      <td>Pending City Council approval</td>\n",
       "      <td>-118.290141</td>\n",
       "      <td>34.076862</td>\n",
       "      <td>316 n juanita ave, los angeles, ca 90004, usa</td>\n",
       "    </tr>\n",
       "    <tr>\n",
       "      <th>63</th>\n",
       "      <td>Normandie 84</td>\n",
       "      <td>8401 S NORMANDIE AVE 90044</td>\n",
       "      <td>8</td>\n",
       "      <td>42</td>\n",
       "      <td>34</td>\n",
       "      <td>Pending City Council approval</td>\n",
       "      <td>-118.300467</td>\n",
       "      <td>33.962534</td>\n",
       "      <td>8401 normandie ave, los angeles, ca 90044, usa</td>\n",
       "    </tr>\n",
       "    <tr>\n",
       "      <th>64</th>\n",
       "      <td>11408 S. Central Avenue</td>\n",
       "      <td>11408 S CENTRAL AVE 90059</td>\n",
       "      <td>15</td>\n",
       "      <td>64</td>\n",
       "      <td>63</td>\n",
       "      <td>Pending City Council approval</td>\n",
       "      <td>-118.253916</td>\n",
       "      <td>33.930660</td>\n",
       "      <td>11408 s central ave, los angeles, ca 90059, usa</td>\n",
       "    </tr>\n",
       "    <tr>\n",
       "      <th>65</th>\n",
       "      <td>Santa Monica &amp; Vermont Phase I</td>\n",
       "      <td>4718 W SANTA MONICA BLVD 90029</td>\n",
       "      <td>13</td>\n",
       "      <td>94</td>\n",
       "      <td>47</td>\n",
       "      <td>Pending City Council approval</td>\n",
       "      <td>-118.292403</td>\n",
       "      <td>34.090611</td>\n",
       "      <td>4718 santa monica blvd, los angeles, ca 90029,...</td>\n",
       "    </tr>\n",
       "    <tr>\n",
       "      <th>66</th>\n",
       "      <td>Santa Monica &amp; Vermont Phase II</td>\n",
       "      <td>4718 W SANTA MONICA BLVD 90029</td>\n",
       "      <td>13</td>\n",
       "      <td>93</td>\n",
       "      <td>47</td>\n",
       "      <td>Pending City Council approval</td>\n",
       "      <td>-118.292403</td>\n",
       "      <td>34.090611</td>\n",
       "      <td>4718 santa monica blvd, los angeles, ca 90029,...</td>\n",
       "    </tr>\n",
       "    <tr>\n",
       "      <th>67</th>\n",
       "      <td>Sun King Apartments</td>\n",
       "      <td>12128 SHELDON ST 91352</td>\n",
       "      <td>6</td>\n",
       "      <td>26</td>\n",
       "      <td>25</td>\n",
       "      <td>Pending City Council approval</td>\n",
       "      <td>-118.396703</td>\n",
       "      <td>34.236673</td>\n",
       "      <td>12128 sheldon st, sun valley, ca 91352, usa</td>\n",
       "    </tr>\n",
       "    <tr>\n",
       "      <th>68</th>\n",
       "      <td>First and Boyle</td>\n",
       "      <td>100 S BOYLE AVE 90033</td>\n",
       "      <td>14</td>\n",
       "      <td>44</td>\n",
       "      <td>43</td>\n",
       "      <td>Pending City Council approval</td>\n",
       "      <td>-118.219864</td>\n",
       "      <td>34.047215</td>\n",
       "      <td>100 s boyle ave, los angeles, ca 90033, usa</td>\n",
       "    </tr>\n",
       "    <tr>\n",
       "      <th>69</th>\n",
       "      <td>6th and San Julian</td>\n",
       "      <td>401 E 6TH ST 90014</td>\n",
       "      <td>14</td>\n",
       "      <td>94</td>\n",
       "      <td>75</td>\n",
       "      <td>Pending City Council approval</td>\n",
       "      <td>-118.246002</td>\n",
       "      <td>34.042867</td>\n",
       "      <td>401 e 6th st, los angeles, ca 90014, usa</td>\n",
       "    </tr>\n",
       "    <tr>\n",
       "      <th>70</th>\n",
       "      <td>Sherman Oaks Senior</td>\n",
       "      <td>14536 W BURBANK BLVD 91411</td>\n",
       "      <td>4</td>\n",
       "      <td>55</td>\n",
       "      <td>54</td>\n",
       "      <td>Pending City Council approval</td>\n",
       "      <td>-118.450093</td>\n",
       "      <td>34.171805</td>\n",
       "      <td>14536 burbank blvd, sherman oaks, ca 91411, usa</td>\n",
       "    </tr>\n",
       "    <tr>\n",
       "      <th>71</th>\n",
       "      <td>Sylmar II</td>\n",
       "      <td>12667 N SAN FERNANDO ROAD 91342</td>\n",
       "      <td>7</td>\n",
       "      <td>56</td>\n",
       "      <td>45</td>\n",
       "      <td>Pending City Council approval</td>\n",
       "      <td>-118.459912</td>\n",
       "      <td>34.299462</td>\n",
       "      <td>12667 san fernando rd, sylmar, ca 91342, usa</td>\n",
       "    </tr>\n",
       "    <tr>\n",
       "      <th>72</th>\n",
       "      <td>Confianza</td>\n",
       "      <td>14142 W VANOWEN ST 91405</td>\n",
       "      <td>2</td>\n",
       "      <td>71</td>\n",
       "      <td>70</td>\n",
       "      <td>Pending City Council approval</td>\n",
       "      <td>-118.441756</td>\n",
       "      <td>34.193625</td>\n",
       "      <td>14142 vanowen st, van nuys, ca 91405, usa</td>\n",
       "    </tr>\n",
       "    <tr>\n",
       "      <th>73</th>\n",
       "      <td>Ambrosia</td>\n",
       "      <td>823 W MANCHESTER AVE 90044</td>\n",
       "      <td>8</td>\n",
       "      <td>100</td>\n",
       "      <td>80</td>\n",
       "      <td>Pending City Council approval</td>\n",
       "      <td>-118.287720</td>\n",
       "      <td>33.960299</td>\n",
       "      <td>823 w manchester ave, los angeles, ca 90044, usa</td>\n",
       "    </tr>\n",
       "    <tr>\n",
       "      <th>74</th>\n",
       "      <td>4719 Normandie</td>\n",
       "      <td>4719 S NORMANDIE AVE 90037</td>\n",
       "      <td>8</td>\n",
       "      <td>48</td>\n",
       "      <td>47</td>\n",
       "      <td>Pending City Council approval</td>\n",
       "      <td>-118.300502</td>\n",
       "      <td>34.000387</td>\n",
       "      <td>4719 normandie ave, los angeles, ca 90037, usa</td>\n",
       "    </tr>\n",
       "    <tr>\n",
       "      <th>75</th>\n",
       "      <td>Amani Apartments (PICO)</td>\n",
       "      <td>4200 W PICO BLVD 90019</td>\n",
       "      <td>10</td>\n",
       "      <td>55</td>\n",
       "      <td>54</td>\n",
       "      <td>Pending City Council approval</td>\n",
       "      <td>-118.327182</td>\n",
       "      <td>34.047553</td>\n",
       "      <td>4200 pico blvd, los angeles, ca 90019, usa</td>\n",
       "    </tr>\n",
       "    <tr>\n",
       "      <th>76</th>\n",
       "      <td>Mariposa Lily</td>\n",
       "      <td>1055 S MARIPOSA AVE 90006</td>\n",
       "      <td>1</td>\n",
       "      <td>41</td>\n",
       "      <td>20</td>\n",
       "      <td>Pending City Council approval</td>\n",
       "      <td>-118.299164</td>\n",
       "      <td>34.051089</td>\n",
       "      <td>1055 s mariposa ave, los angeles, ca 90006, usa</td>\n",
       "    </tr>\n",
       "    <tr>\n",
       "      <th>77</th>\n",
       "      <td>410 E. Florence Avenue</td>\n",
       "      <td>410 E. Florence Ave. 90003</td>\n",
       "      <td>9</td>\n",
       "      <td>51</td>\n",
       "      <td>50</td>\n",
       "      <td>Pending City Council approval</td>\n",
       "      <td>-118.267063</td>\n",
       "      <td>33.974401</td>\n",
       "      <td>410 e florence ave, los angeles, ca 90003, usa</td>\n",
       "    </tr>\n",
       "    <tr>\n",
       "      <th>78</th>\n",
       "      <td>Vermont Manchester</td>\n",
       "      <td>8400 S Vermont 90044</td>\n",
       "      <td>8</td>\n",
       "      <td>180</td>\n",
       "      <td>90</td>\n",
       "      <td>Pending City Council approval</td>\n",
       "      <td>-118.291150</td>\n",
       "      <td>33.962274</td>\n",
       "      <td>8400 s vermont ave, los angeles, ca 90044, usa</td>\n",
       "    </tr>\n",
       "  </tbody>\n",
       "</table>\n",
       "</div>"
      ],
      "text/plain": [
       "                       project_name                          address  \\\n",
       "55                       La Veranda  2420 E CESAR E CHAVEZ AVE 90033   \n",
       "56                Asante Apartments           11001 S BROADWAY 90061   \n",
       "57        Weingart Tower 1B HHH PSH         554 S SAN PEDRO ST 90013   \n",
       "58                803 E. 5th Street               803 E 5TH ST 90013   \n",
       "59                    Colorado East       2453 W COLORADO BLVD 90041   \n",
       "60                      Watts Works         9502 S COMPTON AVE 90002   \n",
       "61            Los Lirios Apartments              119 S SOTO ST 90033   \n",
       "62    Enlightenment Plaza - Phase I          316 N JUANITA AVE 90004   \n",
       "63                     Normandie 84       8401 S NORMANDIE AVE 90044   \n",
       "64          11408 S. Central Avenue        11408 S CENTRAL AVE 90059   \n",
       "65   Santa Monica & Vermont Phase I   4718 W SANTA MONICA BLVD 90029   \n",
       "66  Santa Monica & Vermont Phase II   4718 W SANTA MONICA BLVD 90029   \n",
       "67              Sun King Apartments           12128 SHELDON ST 91352   \n",
       "68                  First and Boyle            100 S BOYLE AVE 90033   \n",
       "69               6th and San Julian               401 E 6TH ST 90014   \n",
       "70              Sherman Oaks Senior       14536 W BURBANK BLVD 91411   \n",
       "71                        Sylmar II  12667 N SAN FERNANDO ROAD 91342   \n",
       "72                        Confianza         14142 W VANOWEN ST 91405   \n",
       "73                         Ambrosia       823 W MANCHESTER AVE 90044   \n",
       "74                   4719 Normandie       4719 S NORMANDIE AVE 90037   \n",
       "75          Amani Apartments (PICO)           4200 W PICO BLVD 90019   \n",
       "76                    Mariposa Lily        1055 S MARIPOSA AVE 90006   \n",
       "77           410 E. Florence Avenue       410 E. Florence Ave. 90003   \n",
       "78               Vermont Manchester             8400 S Vermont 90044   \n",
       "\n",
       "    district_no  units  sh_units                         status         lon  \\\n",
       "55           14     77        38  Pending City Council approval -118.207147   \n",
       "56            8     55        54  Pending City Council approval -118.278654   \n",
       "57           14    104        83  Pending City Council approval -118.244668   \n",
       "58           14     95        94  Pending City Council approval -118.240607   \n",
       "59           14     41        40  Pending City Council approval -118.220304   \n",
       "60           15     26        25  Pending City Council approval -118.245833   \n",
       "61           14     64        20  Pending City Council approval -118.210496   \n",
       "62           13    101       100  Pending City Council approval -118.290141   \n",
       "63            8     42        34  Pending City Council approval -118.300467   \n",
       "64           15     64        63  Pending City Council approval -118.253916   \n",
       "65           13     94        47  Pending City Council approval -118.292403   \n",
       "66           13     93        47  Pending City Council approval -118.292403   \n",
       "67            6     26        25  Pending City Council approval -118.396703   \n",
       "68           14     44        43  Pending City Council approval -118.219864   \n",
       "69           14     94        75  Pending City Council approval -118.246002   \n",
       "70            4     55        54  Pending City Council approval -118.450093   \n",
       "71            7     56        45  Pending City Council approval -118.459912   \n",
       "72            2     71        70  Pending City Council approval -118.441756   \n",
       "73            8    100        80  Pending City Council approval -118.287720   \n",
       "74            8     48        47  Pending City Council approval -118.300502   \n",
       "75           10     55        54  Pending City Council approval -118.327182   \n",
       "76            1     41        20  Pending City Council approval -118.299164   \n",
       "77            9     51        50  Pending City Council approval -118.267063   \n",
       "78            8    180        90  Pending City Council approval -118.291150   \n",
       "\n",
       "          lat                                         geoAddress  \n",
       "55  34.046205  2420 east cesar e chavez avenue, los angeles, ...  \n",
       "56  33.935378       11001 s broadway, los angeles, ca 90061, usa  \n",
       "57  34.042607       554 san pedro st, los angeles, ca 90013, usa  \n",
       "58  34.042475           803 e 5th st, los angeles, ca 90013, usa  \n",
       "59  34.141138     2453 colorado blvd, los angeles, ca 90041, usa  \n",
       "60  33.950543       9502 compton ave, los angeles, ca 90002, usa  \n",
       "61  34.043400          119 s soto st, los angeles, ca 90033, usa  \n",
       "62  34.076862      316 n juanita ave, los angeles, ca 90004, usa  \n",
       "63  33.962534     8401 normandie ave, los angeles, ca 90044, usa  \n",
       "64  33.930660    11408 s central ave, los angeles, ca 90059, usa  \n",
       "65  34.090611  4718 santa monica blvd, los angeles, ca 90029,...  \n",
       "66  34.090611  4718 santa monica blvd, los angeles, ca 90029,...  \n",
       "67  34.236673        12128 sheldon st, sun valley, ca 91352, usa  \n",
       "68  34.047215        100 s boyle ave, los angeles, ca 90033, usa  \n",
       "69  34.042867           401 e 6th st, los angeles, ca 90014, usa  \n",
       "70  34.171805    14536 burbank blvd, sherman oaks, ca 91411, usa  \n",
       "71  34.299462       12667 san fernando rd, sylmar, ca 91342, usa  \n",
       "72  34.193625          14142 vanowen st, van nuys, ca 91405, usa  \n",
       "73  33.960299   823 w manchester ave, los angeles, ca 90044, usa  \n",
       "74  34.000387     4719 normandie ave, los angeles, ca 90037, usa  \n",
       "75  34.047553         4200 pico blvd, los angeles, ca 90019, usa  \n",
       "76  34.051089    1055 s mariposa ave, los angeles, ca 90006, usa  \n",
       "77  33.974401     410 e florence ave, los angeles, ca 90003, usa  \n",
       "78  33.962274     8400 s vermont ave, los angeles, ca 90044, usa  "
      ]
     },
     "execution_count": 111,
     "metadata": {},
     "output_type": "execute_result"
    }
   ],
   "source": [
    "df_homeless_housing[df_homeless_housing['status'] == 'Pending City Council approval']"
   ]
  },
  {
   "cell_type": "markdown",
   "metadata": {},
   "source": [
    "### 3. Let's practice cleaning with intent"
   ]
  },
  {
   "cell_type": "markdown",
   "metadata": {},
   "source": [
    "#### Use each the three datasets loaded in to generate a question you want to answer with the data\n",
    "##### Tips\n",
    "- Show the column list the column types and null values\n",
    "- Find unique values to look at categorical data"
   ]
  },
  {
   "cell_type": "markdown",
   "metadata": {},
   "source": [
    "#### a. Avengers\n",
    "##### Question\n",
    "- How many Avengers have blonde hair? \n",
    "\n",
    "##### What cleaning do I need to do to answer the question\n",
    "- Look up what options of hair color are available (categories)\n",
    "- ID different spellings\n",
    "- Check count"
   ]
  },
  {
   "cell_type": "code",
   "execution_count": 42,
   "metadata": {},
   "outputs": [
    {
     "name": "stdout",
     "output_type": "stream",
     "text": [
      "<class 'pandas.core.frame.DataFrame'>\n",
      "RangeIndex: 16376 entries, 0 to 16375\n",
      "Data columns (total 13 columns):\n",
      " #   Column            Non-Null Count  Dtype  \n",
      "---  ------            --------------  -----  \n",
      " 0   page_id           16376 non-null  int64  \n",
      " 1   name              16376 non-null  object \n",
      " 2   urlslug           16376 non-null  object \n",
      " 3   ID                12606 non-null  object \n",
      " 4   ALIGN             13564 non-null  object \n",
      " 5   EYE               6609 non-null   object \n",
      " 6   HAIR              12112 non-null  object \n",
      " 7   SEX               15522 non-null  object \n",
      " 8   GSM               90 non-null     object \n",
      " 9   ALIVE             16373 non-null  object \n",
      " 10  APPEARANCES       15280 non-null  float64\n",
      " 11  FIRST APPEARANCE  15561 non-null  object \n",
      " 12  Year              15561 non-null  float64\n",
      "dtypes: float64(2), int64(1), object(10)\n",
      "memory usage: 1.6+ MB\n"
     ]
    }
   ],
   "source": [
    "# show the dataframe info here to get you started \n",
    "df_avengers.info()"
   ]
  },
  {
   "cell_type": "code",
   "execution_count": 46,
   "metadata": {},
   "outputs": [
    {
     "data": {
      "text/html": [
       "<div>\n",
       "<style scoped>\n",
       "    .dataframe tbody tr th:only-of-type {\n",
       "        vertical-align: middle;\n",
       "    }\n",
       "\n",
       "    .dataframe tbody tr th {\n",
       "        vertical-align: top;\n",
       "    }\n",
       "\n",
       "    .dataframe thead th {\n",
       "        text-align: right;\n",
       "    }\n",
       "</style>\n",
       "<table border=\"1\" class=\"dataframe\">\n",
       "  <thead>\n",
       "    <tr style=\"text-align: right;\">\n",
       "      <th></th>\n",
       "      <th>0</th>\n",
       "    </tr>\n",
       "  </thead>\n",
       "  <tbody>\n",
       "    <tr>\n",
       "      <th>0</th>\n",
       "      <td>Brown Hair</td>\n",
       "    </tr>\n",
       "    <tr>\n",
       "      <th>1</th>\n",
       "      <td>White Hair</td>\n",
       "    </tr>\n",
       "    <tr>\n",
       "      <th>2</th>\n",
       "      <td>Black Hair</td>\n",
       "    </tr>\n",
       "    <tr>\n",
       "      <th>3</th>\n",
       "      <td>Blond Hair</td>\n",
       "    </tr>\n",
       "    <tr>\n",
       "      <th>4</th>\n",
       "      <td>No Hair</td>\n",
       "    </tr>\n",
       "    <tr>\n",
       "      <th>5</th>\n",
       "      <td>Blue Hair</td>\n",
       "    </tr>\n",
       "    <tr>\n",
       "      <th>6</th>\n",
       "      <td>Red Hair</td>\n",
       "    </tr>\n",
       "    <tr>\n",
       "      <th>7</th>\n",
       "      <td>Bald</td>\n",
       "    </tr>\n",
       "    <tr>\n",
       "      <th>8</th>\n",
       "      <td>Auburn Hair</td>\n",
       "    </tr>\n",
       "    <tr>\n",
       "      <th>9</th>\n",
       "      <td>Grey Hair</td>\n",
       "    </tr>\n",
       "    <tr>\n",
       "      <th>10</th>\n",
       "      <td>Silver Hair</td>\n",
       "    </tr>\n",
       "    <tr>\n",
       "      <th>11</th>\n",
       "      <td>Purple Hair</td>\n",
       "    </tr>\n",
       "    <tr>\n",
       "      <th>12</th>\n",
       "      <td>Strawberry Blond Hair</td>\n",
       "    </tr>\n",
       "    <tr>\n",
       "      <th>13</th>\n",
       "      <td>Green Hair</td>\n",
       "    </tr>\n",
       "    <tr>\n",
       "      <th>14</th>\n",
       "      <td>Reddish Blond Hair</td>\n",
       "    </tr>\n",
       "    <tr>\n",
       "      <th>15</th>\n",
       "      <td>Gold Hair</td>\n",
       "    </tr>\n",
       "    <tr>\n",
       "      <th>16</th>\n",
       "      <td>NaN</td>\n",
       "    </tr>\n",
       "    <tr>\n",
       "      <th>17</th>\n",
       "      <td>Orange Hair</td>\n",
       "    </tr>\n",
       "    <tr>\n",
       "      <th>18</th>\n",
       "      <td>Pink Hair</td>\n",
       "    </tr>\n",
       "    <tr>\n",
       "      <th>19</th>\n",
       "      <td>Variable Hair</td>\n",
       "    </tr>\n",
       "    <tr>\n",
       "      <th>20</th>\n",
       "      <td>Yellow Hair</td>\n",
       "    </tr>\n",
       "    <tr>\n",
       "      <th>21</th>\n",
       "      <td>Light Brown Hair</td>\n",
       "    </tr>\n",
       "    <tr>\n",
       "      <th>22</th>\n",
       "      <td>Magenta Hair</td>\n",
       "    </tr>\n",
       "    <tr>\n",
       "      <th>23</th>\n",
       "      <td>Bronze Hair</td>\n",
       "    </tr>\n",
       "    <tr>\n",
       "      <th>24</th>\n",
       "      <td>Dyed Hair</td>\n",
       "    </tr>\n",
       "    <tr>\n",
       "      <th>25</th>\n",
       "      <td>Orange-brown Hair</td>\n",
       "    </tr>\n",
       "  </tbody>\n",
       "</table>\n",
       "</div>"
      ],
      "text/plain": [
       "                        0\n",
       "0              Brown Hair\n",
       "1              White Hair\n",
       "2              Black Hair\n",
       "3              Blond Hair\n",
       "4                 No Hair\n",
       "5               Blue Hair\n",
       "6                Red Hair\n",
       "7                    Bald\n",
       "8             Auburn Hair\n",
       "9               Grey Hair\n",
       "10            Silver Hair\n",
       "11            Purple Hair\n",
       "12  Strawberry Blond Hair\n",
       "13             Green Hair\n",
       "14     Reddish Blond Hair\n",
       "15              Gold Hair\n",
       "16                    NaN\n",
       "17            Orange Hair\n",
       "18              Pink Hair\n",
       "19          Variable Hair\n",
       "20            Yellow Hair\n",
       "21       Light Brown Hair\n",
       "22           Magenta Hair\n",
       "23            Bronze Hair\n",
       "24              Dyed Hair\n",
       "25      Orange-brown Hair"
      ]
     },
     "execution_count": 46,
     "metadata": {},
     "output_type": "execute_result"
    }
   ],
   "source": [
    "# Look up what options of hair color are available (categories)\n",
    "pd.DataFrame(df_avengers['HAIR'].unique())"
   ]
  },
  {
   "cell_type": "code",
   "execution_count": 47,
   "metadata": {},
   "outputs": [],
   "source": [
    "# ID different spellings\n",
    "# Let's create a broader category for hair"
   ]
  },
  {
   "cell_type": "code",
   "execution_count": 48,
   "metadata": {},
   "outputs": [
    {
     "data": {
      "text/plain": [
       "1582"
      ]
     },
     "execution_count": 48,
     "metadata": {},
     "output_type": "execute_result"
    }
   ],
   "source": [
    "# Check count\n",
    "len(df_avengers[df_avengers['HAIR'] == 'Blond Hair'])"
   ]
  },
  {
   "cell_type": "markdown",
   "metadata": {},
   "source": [
    "#### b. Countries\n",
    "##### Question\n",
    "- _your question here_\n",
    "\n",
    "##### What cleaning do I need to do to answer the question\n",
    "- \n",
    "- \n",
    "- "
   ]
  },
  {
   "cell_type": "code",
   "execution_count": 106,
   "metadata": {},
   "outputs": [
    {
     "name": "stdout",
     "output_type": "stream",
     "text": [
      "<class 'pandas.core.frame.DataFrame'>\n",
      "RangeIndex: 242 entries, 0 to 241\n",
      "Data columns (total 4 columns):\n",
      " #   Column                                                           Non-Null Count  Dtype \n",
      "---  ------                                                           --------------  ----- \n",
      " 0   Common and formal names                                          237 non-null    object\n",
      " 1   Membership within the UN System[a]                               36 non-null     object\n",
      " 2   Sovereignty dispute[b]                                           47 non-null     object\n",
      " 3   Further information on status and recognition of sovereignty[d]  134 non-null    object\n",
      "dtypes: object(4)\n",
      "memory usage: 7.7+ KB\n"
     ]
    }
   ],
   "source": [
    "df_countries[0].info()"
   ]
  },
  {
   "cell_type": "markdown",
   "metadata": {},
   "source": [
    "#### c. LA homeless housing\n",
    "##### Question\n",
    "- _your question here_\n",
    "\n",
    "##### What cleaning do I need to do to answer the question\n",
    "- \n",
    "- \n",
    "- "
   ]
  },
  {
   "cell_type": "code",
   "execution_count": 108,
   "metadata": {},
   "outputs": [
    {
     "name": "stdout",
     "output_type": "stream",
     "text": [
      "<class 'pandas.core.frame.DataFrame'>\n",
      "RangeIndex: 79 entries, 0 to 78\n",
      "Data columns (total 9 columns):\n",
      " #   Column        Non-Null Count  Dtype  \n",
      "---  ------        --------------  -----  \n",
      " 0   project_name  79 non-null     object \n",
      " 1   address       79 non-null     object \n",
      " 2   district_no   79 non-null     int64  \n",
      " 3   units         79 non-null     int64  \n",
      " 4   sh_units      79 non-null     int64  \n",
      " 5   status        79 non-null     object \n",
      " 6   lon           79 non-null     float64\n",
      " 7   lat           79 non-null     float64\n",
      " 8   geoAddress    79 non-null     object \n",
      "dtypes: float64(2), int64(3), object(4)\n",
      "memory usage: 5.7+ KB\n"
     ]
    }
   ],
   "source": [
    "df_homeless_housing.info()"
   ]
  },
  {
   "cell_type": "markdown",
   "metadata": {},
   "source": [
    "Take a look at the [LA Times'](https://github.com/datadesk/notebooks) or [FiveThirtyEight's](https://github.com/fivethirtyeight/data) for more practice"
   ]
  },
  {
   "cell_type": "markdown",
   "metadata": {},
   "source": [
    "## BeautifulSoup\n",
    "[BeautifulSoup documentation](https://www.crummy.com/software/BeautifulSoup/bs4/doc/)"
   ]
  },
  {
   "cell_type": "code",
   "execution_count": 72,
   "metadata": {},
   "outputs": [],
   "source": [
    "# load in the HTML and format for BS\n",
    "sp_wiki_url = 'https://en.wikipedia.org/wiki/List_of_S%26P_500_companies'"
   ]
  },
  {
   "cell_type": "code",
   "execution_count": 23,
   "metadata": {},
   "outputs": [],
   "source": [
    "sp_page_r = requests.get(sp_wiki_url)"
   ]
  },
  {
   "cell_type": "code",
   "execution_count": 25,
   "metadata": {},
   "outputs": [],
   "source": [
    "sp_bs = BeautifulSoup(sp_page_r.content)"
   ]
  },
  {
   "cell_type": "code",
   "execution_count": 71,
   "metadata": {},
   "outputs": [
    {
     "data": {
      "text/plain": [
       "<title>List of S&amp;P 500 companies - Wikipedia</title>"
      ]
     },
     "execution_count": 71,
     "metadata": {},
     "output_type": "execute_result"
    }
   ],
   "source": [
    "# finds the title tag\n",
    "sp_bs.title"
   ]
  },
  {
   "cell_type": "code",
   "execution_count": 42,
   "metadata": {},
   "outputs": [
    {
     "data": {
      "text/plain": [
       "<a id=\"top\"></a>"
      ]
     },
     "execution_count": 42,
     "metadata": {},
     "output_type": "execute_result"
    }
   ],
   "source": [
    "# grabs the first a tag\n",
    "sp_bs.a"
   ]
  },
  {
   "cell_type": "code",
   "execution_count": 112,
   "metadata": {},
   "outputs": [
    {
     "data": {
      "text/plain": [
       "3562"
      ]
     },
     "execution_count": 112,
     "metadata": {},
     "output_type": "execute_result"
    }
   ],
   "source": [
    "# finds all a tags\n",
    "len(sp_bs.find_all('a'))"
   ]
  },
  {
   "cell_type": "code",
   "execution_count": 73,
   "metadata": {},
   "outputs": [
    {
     "data": {
      "text/plain": [
       "[<a class=\"mw-jump-link\" href=\"#mw-head\">Jump to navigation</a>,\n",
       " <a class=\"mw-jump-link\" href=\"#searchInput\">Jump to search</a>]"
      ]
     },
     "execution_count": 73,
     "metadata": {},
     "output_type": "execute_result"
    }
   ],
   "source": [
    "# find all elements with the class \"mw-jump-link\"\n",
    "sp_bs.find_all(class_='mw-jump-link')"
   ]
  },
  {
   "cell_type": "markdown",
   "metadata": {},
   "source": [
    "### Traverse the DOM"
   ]
  },
  {
   "cell_type": "code",
   "execution_count": 74,
   "metadata": {},
   "outputs": [],
   "source": [
    "# we know the table we want is the first table in the DOM\n",
    "# then we want to to read tr tags as groups of cells in a row and td tags as cells"
   ]
  },
  {
   "cell_type": "code",
   "execution_count": 47,
   "metadata": {},
   "outputs": [],
   "source": [
    "# find where the data you want resides (a tag, class name, etc)\n",
    "sp_table = sp_bs.find_all('table')\n",
    "# table[0]\n",
    "sp_table = sp_table[0]"
   ]
  },
  {
   "cell_type": "code",
   "execution_count": 48,
   "metadata": {},
   "outputs": [],
   "source": [
    "# find_all tr\n",
    "# len(sp_table.find_all('tr'))\n",
    "sp_trs = sp_table.find_all('tr')"
   ]
  },
  {
   "cell_type": "code",
   "execution_count": 75,
   "metadata": {},
   "outputs": [],
   "source": [
    "# separate the first tr tag row for the header\n",
    "sp_th = sp_trs[0].find_all('th')\n",
    "sp_header = []\n",
    "for th in sp_th:\n",
    "    sp_header.append(th.text)"
   ]
  },
  {
   "cell_type": "code",
   "execution_count": 51,
   "metadata": {},
   "outputs": [],
   "source": [
    "# for each tr, find tds then for each td get text inside, then save to new array\n",
    "sp_list = []\n",
    "for tr in sp_trs[1:]:\n",
    "    tds = tr.find_all('td')\n",
    "    tr_list = []\n",
    "    for (i, td) in enumerate(tds):\n",
    "        # if it's the third column, get the href link instead of the text\n",
    "        if(i == 2):\n",
    "            tr_list.append(td.find('a')['href'])\n",
    "        else:\n",
    "            tr_list.append(td.text)\n",
    "    sp_list.append(tr_list)"
   ]
  },
  {
   "cell_type": "code",
   "execution_count": 77,
   "metadata": {},
   "outputs": [],
   "source": [
    "sp_df = pd.DataFrame(sp_list, columns=sp_header)"
   ]
  },
  {
   "cell_type": "code",
   "execution_count": 78,
   "metadata": {},
   "outputs": [],
   "source": [
    "sp_df.to_csv('formatted_data/2021-06-29_sp500.csv', index=False)"
   ]
  },
  {
   "cell_type": "markdown",
   "metadata": {},
   "source": [
    "#### We can do more cleaning here"
   ]
  },
  {
   "cell_type": "code",
   "execution_count": null,
   "metadata": {},
   "outputs": [],
   "source": []
  }
 ],
 "metadata": {
  "kernelspec": {
   "display_name": "Lede2021-fTxvBHm",
   "language": "python",
   "name": "lede2021-ftxvbhm"
  },
  "language_info": {
   "codemirror_mode": {
    "name": "ipython",
    "version": 3
   },
   "file_extension": ".py",
   "mimetype": "text/x-python",
   "name": "python",
   "nbconvert_exporter": "python",
   "pygments_lexer": "ipython3",
   "version": "3.8.10"
  }
 },
 "nbformat": 4,
 "nbformat_minor": 4
}
