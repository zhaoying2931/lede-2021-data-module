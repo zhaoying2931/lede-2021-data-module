{
 "cells": [
  {
   "cell_type": "markdown",
   "metadata": {},
   "source": [
    "# Data module class 2\n",
    "Reading documentation: Pandas and BeautifulSoup"
   ]
  },
  {
   "cell_type": "code",
   "execution_count": 11,
   "metadata": {},
   "outputs": [],
   "source": [
    "import pandas as pd\n",
    "from bs4 import BeautifulSoup\n",
    "import requests"
   ]
  },
  {
   "cell_type": "code",
   "execution_count": 13,
   "metadata": {},
   "outputs": [],
   "source": [
    "# download and import BeautifulSoup if you need to\n",
    "# !pip install beautifulsoup4"
   ]
  },
  {
   "cell_type": "markdown",
   "metadata": {},
   "source": [
    "## Pandas\n",
    "### Terminology reference\n",
    "#### Data structures\n",
    "##### 1-dimensional data (create Series)\n",
    "\n",
    "|pandas abbreviation|definition|example|\n",
    "|---|---|---|\n",
    "|dict|Python dictionary|`{'a': 'value', 'b': 'value'}`|\n",
    "|ndarray|N-dimensional array (can be 1 or 2 dimensional)|`[0, 1, 2, 3]`|\n",
    "|scalar|Single value|`100`|\n",
    "|list|Python list|`[0, 1, 2, 3]`|\n",
    "\n",
    "##### 2-dimensional data (create DataFrames)\n",
    "\n",
    "|pandas term|example|\n",
    "|---|---|\n",
    "|ndarray|`[[0, 1, 2, 3], [4, 5, 6, 7]]`|\n",
    "|dict of ndarrays|`{'one': [1, 2, 3, 4], 'two': [4, 3, 2, 1]}`|\n",
    "|list of dicts|`[{'id': 1, 'info': 'text'}, {'id': 2, 'info': 'more text'}]`|"
   ]
  },
  {
   "cell_type": "markdown",
   "metadata": {},
   "source": [
    "#### How do these look when loaded in pandas?\n",
    "[Taken from the Pandas User Guide](https://pandas.pydata.org/docs/user_guide/dsintro.html)"
   ]
  },
  {
   "cell_type": "code",
   "execution_count": 14,
   "metadata": {},
   "outputs": [
    {
     "data": {
      "text/plain": [
       "a    value\n",
       "b    value\n",
       "dtype: object"
      ]
     },
     "execution_count": 14,
     "metadata": {},
     "output_type": "execute_result"
    }
   ],
   "source": [
    "pd.Series({'a': 'value', 'b': 'value'})"
   ]
  },
  {
   "cell_type": "code",
   "execution_count": 56,
   "metadata": {},
   "outputs": [
    {
     "data": {
      "text/plain": [
       "0    0\n",
       "1    1\n",
       "2    2\n",
       "3    3\n",
       "dtype: int64"
      ]
     },
     "execution_count": 56,
     "metadata": {},
     "output_type": "execute_result"
    }
   ],
   "source": [
    "pd.Series([0, 1, 2, 3])"
   ]
  },
  {
   "cell_type": "code",
   "execution_count": 57,
   "metadata": {},
   "outputs": [
    {
     "data": {
      "text/plain": [
       "0    5\n",
       "dtype: int64"
      ]
     },
     "execution_count": 57,
     "metadata": {},
     "output_type": "execute_result"
    }
   ],
   "source": [
    "pd.Series(5)"
   ]
  },
  {
   "cell_type": "code",
   "execution_count": 18,
   "metadata": {},
   "outputs": [],
   "source": [
    "pd.DataFrame([{'id': 1, 'info': 'text'}, {'id': 2, 'info': 'more text'}])"
   ]
  },
  {
   "cell_type": "markdown",
   "metadata": {},
   "source": [
    "#### Other terms\n",
    "[See pd.to_datetime() as an example](https://pandas.pydata.org/docs/reference/api/pandas.to_datetime.html#pandas.to_datetime)\n",
    "\n",
    "#### parameters: Information that a function accepts \n",
    "- args\n",
    "    - Arguments that are required (or things that the function needs in order to run)\n",
    "    - i.e. data for your DataFrame\n",
    "- kwargs (even though Pandas does not identify them as such)\n",
    "    - Keyword arguments: optional arguments not necessary for a function to run, but will tell the function to behave in a different way than the default. Called \"keyword\" arguments because you have to identify the name of the variable\n",
    "    - i.e. errors='raise'"
   ]
  },
  {
   "cell_type": "markdown",
   "metadata": {},
   "source": [
    "### 1. Let's practice input/output with Pandas with the following links.\n",
    "Use Panda's [IO Tools](https://pandas.pydata.org/pandas-docs/stable/user_guide/io.html) section of their documentation to grab these datasets\n",
    "\n",
    "- [Avengers Wikia data - FiveThirtyEight](https://raw.githubusercontent.com/fivethirtyeight/data/master/comic-characters/marvel-wikia-data.csv) | [Documentation here](https://github.com/fivethirtyeight/data/tree/master/avengers)\n",
    "- [List of sovereign states - Wikipedia](https://en.wikipedia.org/wiki/List_of_sovereign_states)\n",
    "- [Homeless housing - LA Times](https://raw.githubusercontent.com/kyleykim/R_Scripts/master/la-me-ln-hhh-unequal/revised_data/master_data_geocoded.csv) | [Documentation](https://github.com/kyleykim/R_Scripts/tree/master/la-me-ln-hhh-unequal)"
   ]
  },
  {
   "cell_type": "code",
   "execution_count": null,
   "metadata": {},
   "outputs": [],
   "source": []
  },
  {
   "cell_type": "markdown",
   "metadata": {},
   "source": [
    "### 2. Let's practice working with missing data and selecting these values\n",
    "#### For each DataFrame, either select all the missing values of one column or select a unique categorical value.\n",
    "The [Indexing and selecting data¶](https://pandas.pydata.org/pandas-docs/stable/user_guide/indexing.html) section of Pandas documentation will help"
   ]
  },
  {
   "cell_type": "markdown",
   "metadata": {},
   "source": [
    "#### a. Avengers"
   ]
  },
  {
   "cell_type": "code",
   "execution_count": null,
   "metadata": {},
   "outputs": [],
   "source": []
  },
  {
   "cell_type": "markdown",
   "metadata": {},
   "source": [
    "#### b. Countries"
   ]
  },
  {
   "cell_type": "code",
   "execution_count": null,
   "metadata": {},
   "outputs": [],
   "source": []
  },
  {
   "cell_type": "markdown",
   "metadata": {},
   "source": [
    "#### c. LA homeless housing"
   ]
  },
  {
   "cell_type": "code",
   "execution_count": null,
   "metadata": {},
   "outputs": [],
   "source": []
  },
  {
   "cell_type": "markdown",
   "metadata": {},
   "source": [
    "### 3. Let's practice cleaning with intent"
   ]
  },
  {
   "cell_type": "markdown",
   "metadata": {},
   "source": [
    "#### Use each the three datasets loaded in to generate a question you want to answer with the data\n",
    "##### Tips\n",
    "- Show the column list the column types and null values\n",
    "- Find unique values to look at categorical data"
   ]
  },
  {
   "cell_type": "markdown",
   "metadata": {},
   "source": [
    "#### a. Avengers\n",
    "##### Question\n",
    "- _your question here__ \n",
    "\n",
    "##### What steps do I need to do to answer the question?\n",
    "- \n",
    "- \n",
    "- "
   ]
  },
  {
   "cell_type": "code",
   "execution_count": 42,
   "metadata": {},
   "outputs": [
    {
     "name": "stdout",
     "output_type": "stream",
     "text": [
      "<class 'pandas.core.frame.DataFrame'>\n",
      "RangeIndex: 16376 entries, 0 to 16375\n",
      "Data columns (total 13 columns):\n",
      " #   Column            Non-Null Count  Dtype  \n",
      "---  ------            --------------  -----  \n",
      " 0   page_id           16376 non-null  int64  \n",
      " 1   name              16376 non-null  object \n",
      " 2   urlslug           16376 non-null  object \n",
      " 3   ID                12606 non-null  object \n",
      " 4   ALIGN             13564 non-null  object \n",
      " 5   EYE               6609 non-null   object \n",
      " 6   HAIR              12112 non-null  object \n",
      " 7   SEX               15522 non-null  object \n",
      " 8   GSM               90 non-null     object \n",
      " 9   ALIVE             16373 non-null  object \n",
      " 10  APPEARANCES       15280 non-null  float64\n",
      " 11  FIRST APPEARANCE  15561 non-null  object \n",
      " 12  Year              15561 non-null  float64\n",
      "dtypes: float64(2), int64(1), object(10)\n",
      "memory usage: 1.6+ MB\n"
     ]
    }
   ],
   "source": [
    "# show the dataframe info here to get you started \n",
    "df_avengers.info()"
   ]
  },
  {
   "cell_type": "markdown",
   "metadata": {},
   "source": [
    "#### b. Countries\n",
    "##### Question\n",
    "- _your question here_\n",
    "\n",
    "##### What cleaning do I need to do to answer the question\n",
    "- \n",
    "- \n",
    "- "
   ]
  },
  {
   "cell_type": "code",
   "execution_count": null,
   "metadata": {},
   "outputs": [],
   "source": []
  },
  {
   "cell_type": "markdown",
   "metadata": {},
   "source": [
    "#### c. LA homeless housing\n",
    "##### Question\n",
    "- _your question here_\n",
    "\n",
    "##### What cleaning do I need to do to answer the question\n",
    "- \n",
    "- \n",
    "- "
   ]
  },
  {
   "cell_type": "code",
   "execution_count": null,
   "metadata": {},
   "outputs": [],
   "source": []
  },
  {
   "cell_type": "markdown",
   "metadata": {},
   "source": [
    "Take a look at the [LA Times'](https://github.com/datadesk/notebooks) or [FiveThirtyEight's](https://github.com/fivethirtyeight/data) for more practice"
   ]
  },
  {
   "cell_type": "markdown",
   "metadata": {},
   "source": [
    "## BeautifulSoup\n",
    "[BeautifulSoup documentation](https://www.crummy.com/software/BeautifulSoup/bs4/doc/)"
   ]
  },
  {
   "cell_type": "code",
   "execution_count": 72,
   "metadata": {},
   "outputs": [],
   "source": [
    "# load in the HTML and format for BS\n",
    "sp_wiki_url = 'https://en.wikipedia.org/wiki/List_of_S%26P_500_companies'"
   ]
  },
  {
   "cell_type": "code",
   "execution_count": 1,
   "metadata": {},
   "outputs": [],
   "source": [
    "# find the title tag"
   ]
  },
  {
   "cell_type": "code",
   "execution_count": 3,
   "metadata": {},
   "outputs": [],
   "source": [
    "# grab the first a tag"
   ]
  },
  {
   "cell_type": "code",
   "execution_count": 4,
   "metadata": {},
   "outputs": [],
   "source": [
    "# finds all a tags"
   ]
  },
  {
   "cell_type": "code",
   "execution_count": 5,
   "metadata": {},
   "outputs": [],
   "source": [
    "# find all elements with the class \"mw-jump-link\""
   ]
  },
  {
   "cell_type": "markdown",
   "metadata": {},
   "source": [
    "#### Format the first table of the list of S&P 500 companies wiki page as a dataframe\n",
    "\n",
    "[Traversing the DOM - W3C](https://www.w3.org/wiki/Traversing_the_DOM)"
   ]
  },
  {
   "cell_type": "code",
   "execution_count": 6,
   "metadata": {},
   "outputs": [],
   "source": [
    "# find where the data you want resides (a tag, class name, etc)"
   ]
  },
  {
   "cell_type": "markdown",
   "metadata": {},
   "source": [
    "### We can do more cleaning here"
   ]
  },
  {
   "cell_type": "code",
   "execution_count": null,
   "metadata": {},
   "outputs": [],
   "source": []
  }
 ],
 "metadata": {
  "kernelspec": {
   "display_name": "Lede2021-fTxvBHm",
   "language": "python",
   "name": "lede2021-ftxvbhm"
  },
  "language_info": {
   "codemirror_mode": {
    "name": "ipython",
    "version": 3
   },
   "file_extension": ".py",
   "mimetype": "text/x-python",
   "name": "python",
   "nbconvert_exporter": "python",
   "pygments_lexer": "ipython3",
   "version": "3.8.10"
  }
 },
 "nbformat": 4,
 "nbformat_minor": 4
}
