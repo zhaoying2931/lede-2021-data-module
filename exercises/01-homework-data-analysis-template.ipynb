{
 "cells": [
  {
   "cell_type": "markdown",
   "metadata": {},
   "source": [
    "# Data analysis template\n",
    "You'll turn in two notebooks. One is documentation and pseudocode only (this one). This will serve as a template you can use for most data analysis you do. Then copy this notebook and conduct data analysis on a delimited file\n",
    "- Tips\n",
    "  - Focus on making sure your data has the records you would expect\n",
    "  - Don't write any Python related to analysis in your template (importing libraries is fine)\n",
    "  - Browse notebooks from the [LA Times Data Desk](https://github.com/datadesk/notebooks) for inspiration\n",
    "- How to turn in\n",
    "  - Push your changes to your Github\n",
    "  - Submit Github link directly to the notebook on Courseworks"
   ]
  },
  {
   "cell_type": "markdown",
   "metadata": {},
   "source": [
    "## The data you'll analyze\n",
    "You'll analyze data on the [\"Twitter ratios\"](https://github.com/fivethirtyeight/data/tree/master/twitter-ratio) on tweets of Barack Obama, Donald Trump or US Senators. You only need to choose one file to analyze. Be sure to read the accompanying [FiveThirtyEight article](https://fivethirtyeight.com/features/the-worst-tweeter-in-politics-isnt-trump/) on it."
   ]
  },
  {
   "cell_type": "code",
   "execution_count": null,
   "metadata": {},
   "outputs": [],
   "source": []
  }
 ],
 "metadata": {
  "kernelspec": {
   "display_name": "Python 3",
   "language": "python",
   "name": "python3"
  },
  "language_info": {
   "codemirror_mode": {
    "name": "ipython",
    "version": 3
   },
   "file_extension": ".py",
   "mimetype": "text/x-python",
   "name": "python",
   "nbconvert_exporter": "python",
   "pygments_lexer": "ipython3",
   "version": "3.8.10"
  }
 },
 "nbformat": 4,
 "nbformat_minor": 4
}
