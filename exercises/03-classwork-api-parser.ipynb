{
 "cells": [
  {
   "cell_type": "markdown",
   "id": "95c00a50-e85c-4aa1-a2ed-afb6c667b73f",
   "metadata": {},
   "source": [
    "# Web scraping: headers, the networks tab and parsing an API URL\n",
    "## Helpful links and resources\n",
    "- [urllib](https://docs.python.org/3/library/urllib.parse.html#) is a Python library that will pick apart URLs\n",
    "- [Sessions object - request library](https://docs.python-requests.org/en/master/user/advanced/#session-objects)"
   ]
  },
  {
   "cell_type": "code",
   "execution_count": 169,
   "id": "a812281b-19bb-42db-a11b-6ae1bef64387",
   "metadata": {},
   "outputs": [],
   "source": [
    "#import libraries"
   ]
  },
  {
   "cell_type": "markdown",
   "id": "39a553a8-93d0-482c-8d15-083aa316a028",
   "metadata": {},
   "source": [
    "## The networks tab\n",
    "### Static data files\n",
    "[Covid cases in the US - New York Times](https://www.nytimes.com/interactive/2021/us/covid-cases.html)"
   ]
  },
  {
   "cell_type": "code",
   "execution_count": 180,
   "id": "05f19b68-de73-4570-85b3-880e68be63ae",
   "metadata": {},
   "outputs": [],
   "source": [
    "# get static data file\n",
    "covid_cases_r = requests.get('https://static01.nyt.com/newsgraphics/2021/coronavirus-tracking/data/pages/usa/data.json')"
   ]
  },
  {
   "cell_type": "code",
   "execution_count": 181,
   "id": "a9a60bb9-1c2d-4d76-9fc5-935797b9c84c",
   "metadata": {},
   "outputs": [],
   "source": [
    "covid_cases = covid_cases_r.json()"
   ]
  },
  {
   "cell_type": "code",
   "execution_count": 183,
   "id": "914e3830-55f1-45f8-9dc2-775a18d4dd02",
   "metadata": {},
   "outputs": [],
   "source": [
    "# covid_cases"
   ]
  },
  {
   "cell_type": "markdown",
   "id": "9b185437-5789-4fc9-8c92-78b1e4ee6e1c",
   "metadata": {},
   "source": [
    "### \"Secret\" APIs\n",
    "Shopping websites are good candidates for secret APIs, such as [Target](www.target.com)\n",
    "\n",
    "#### Target's Search API"
   ]
  },
  {
   "cell_type": "code",
   "execution_count": 184,
   "id": "21d269d7-0db6-4eca-a79e-fbb7be3eb8b6",
   "metadata": {},
   "outputs": [],
   "source": [
    "# search for an item with the networks tab open to ID which APIs you can use"
   ]
  },
  {
   "cell_type": "code",
   "execution_count": 193,
   "id": "27babaa0-6564-4c6f-8dee-67f9cb258bf7",
   "metadata": {},
   "outputs": [],
   "source": [
    "# parse the URL so it's easier to read"
   ]
  },
  {
   "cell_type": "code",
   "execution_count": 194,
   "id": "265908de-e66f-437a-b985-4deac503e1fe",
   "metadata": {},
   "outputs": [],
   "source": [
    "# check the parsed URL"
   ]
  },
  {
   "cell_type": "code",
   "execution_count": 187,
   "id": "e9c852ea-050e-42e7-87d6-0b759f118a25",
   "metadata": {},
   "outputs": [],
   "source": [
    "# format the endpoint and parameters"
   ]
  },
  {
   "cell_type": "code",
   "execution_count": 188,
   "id": "a9bb798d-816d-44e4-b8e9-040566667937",
   "metadata": {},
   "outputs": [],
   "source": [
    "# change something in the parameters (like keyword)"
   ]
  },
  {
   "cell_type": "code",
   "execution_count": 189,
   "id": "8600a267-50e9-43fe-8798-b374e4d235db",
   "metadata": {},
   "outputs": [],
   "source": [
    "# get request with endpoint and params"
   ]
  },
  {
   "cell_type": "code",
   "execution_count": 190,
   "id": "dddf447d-6fea-4b70-8f5f-f3edc4d15a4f",
   "metadata": {},
   "outputs": [],
   "source": [
    "# drill down the json file"
   ]
  },
  {
   "cell_type": "code",
   "execution_count": 192,
   "id": "3500909c-4eaf-4876-bdb7-95b7465234d9",
   "metadata": {},
   "outputs": [],
   "source": [
    "# drill down some more"
   ]
  },
  {
   "cell_type": "markdown",
   "id": "b82cea13-756d-42dd-ae1f-4f832aee633f",
   "metadata": {},
   "source": [
    "#### Target's aggregation API"
   ]
  },
  {
   "cell_type": "code",
   "execution_count": 195,
   "id": "dc56a282-2ff4-4e21-8e41-d1c38a406123",
   "metadata": {},
   "outputs": [],
   "source": [
    "# parse the URL so it's easier to read\n",
    "target_list = urlparse('https://redsky.target.com/redsky_aggregations/v1/web/plp_fulfillment_v1?key=ff457966e64d5e877fdbad070f276d18ecec4a01&tcins=81107269%2C81068829%2C14135567%2C81068792%2C82079503%2C81829962%2C81068790%2C81506339%2C80935950%2C81107259%2C81068797%2C11069188%2C81506334%2C81107271%2C81068773%2C81180792%2C81107267%2C81068789%2C81068796%2C81506336%2C81107268%2C81068821%2C81564691%2C81953908%2C81068815%2C81068825%2C81068787%2C81564688&store_id=2850&zip=11201&state=NY&latitude=40.690&longitude=-74.000&scheduled_delivery_store_id=2850')"
   ]
  },
  {
   "cell_type": "code",
   "execution_count": 196,
   "id": "768f710c-839f-4f7e-aafc-346c517e1d65",
   "metadata": {},
   "outputs": [
    {
     "data": {
      "text/plain": [
       "ParseResult(scheme='https', netloc='redsky.target.com', path='/redsky_aggregations/v1/web/plp_fulfillment_v1', params='', query='key=ff457966e64d5e877fdbad070f276d18ecec4a01&tcins=81107269%2C81068829%2C14135567%2C81068792%2C82079503%2C81829962%2C81068790%2C81506339%2C80935950%2C81107259%2C81068797%2C11069188%2C81506334%2C81107271%2C81068773%2C81180792%2C81107267%2C81068789%2C81068796%2C81506336%2C81107268%2C81068821%2C81564691%2C81953908%2C81068815%2C81068825%2C81068787%2C81564688&store_id=2850&zip=11201&state=NY&latitude=40.690&longitude=-74.000&scheduled_delivery_store_id=2850', fragment='')"
      ]
     },
     "execution_count": 196,
     "metadata": {},
     "output_type": "execute_result"
    }
   ],
   "source": [
    "# check the parsed URL\n",
    "target_list"
   ]
  },
  {
   "cell_type": "code",
   "execution_count": 197,
   "id": "1b3720f3-b361-4bdc-abd1-eb2c845f4dbf",
   "metadata": {},
   "outputs": [],
   "source": [
    "# format the endpoint and parameters\n",
    "target_list_endpoint = target_list[0] + '://' + target_list[1] + target_list[2]\n",
    "target_list_params = {}\n",
    "for parameter in target_list[4].split('&'):\n",
    "    key_value = parameter.split('=')\n",
    "    target_list_params[key_value[0]] = key_value[1]"
   ]
  },
  {
   "cell_type": "code",
   "execution_count": 198,
   "id": "cc112f76-5561-4f9c-ba30-54884f267503",
   "metadata": {},
   "outputs": [],
   "source": [
    "# change something in the parameters (like tcins)\n",
    "target_list_params['tcins'] = '81107269'"
   ]
  },
  {
   "cell_type": "code",
   "execution_count": 199,
   "id": "19124375-79f9-4137-b864-9a73f91c5fa9",
   "metadata": {},
   "outputs": [],
   "source": [
    "# get request with endpoint and params\n",
    "target_list_r = requests.get(target_list_endpoint, params=target_list_params)"
   ]
  },
  {
   "cell_type": "code",
   "execution_count": 201,
   "id": "6db29107-177b-4d07-ac3b-7c6c9c870fcd",
   "metadata": {},
   "outputs": [
    {
     "data": {
      "text/plain": [
       "[{'__typename': 'ProductSummary',\n",
       "  'tcin': '81107269',\n",
       "  'fulfillment': {'product_id': '81107269',\n",
       "   'is_out_of_stock_in_all_store_locations': False,\n",
       "   'shipping_options': {'availability_status': 'IN_STOCK',\n",
       "    'loyalty_availability_status': 'IN_STOCK',\n",
       "    'available_to_promise_quantity': 399.0,\n",
       "    'minimum_order_quantity': 1.0,\n",
       "    'services': [{'shipping_method_id': 'STANDARD',\n",
       "      'min_delivery_date': '2021-07-08',\n",
       "      'max_delivery_date': '2021-07-08',\n",
       "      'is_two_day_shipping': True,\n",
       "      'is_base_shipping_method': True,\n",
       "      'service_level_description': '2-day shipping',\n",
       "      'shipping_method_short_description': 'Standard',\n",
       "      'cutoff': '2021-07-05T16:00:00Z'}]},\n",
       "   'store_options': [{'location_name': 'Brooklyn Fulton St',\n",
       "     'location_address': '445 Albee Square West,BROOKLYN,NY,11201-3016',\n",
       "     'location_id': '2850',\n",
       "     'search_response_store_type': 'PRIMARY',\n",
       "     'order_pickup': {'availability_status': 'UNAVAILABLE',\n",
       "      'reason_code': 'IN_ELIGIBLE'},\n",
       "     'in_store_only': {'availability_status': 'NOT_SOLD_IN_STORE'},\n",
       "     'ship_to_store': {'max_pickup_date': '2021-07-09',\n",
       "      'min_pickup_date': '2021-07-09',\n",
       "      'availability_status': 'IN_STOCK'}}],\n",
       "   'scheduled_delivery': {'availability_status': 'UNAVAILABLE'}}}]"
      ]
     },
     "execution_count": 201,
     "metadata": {},
     "output_type": "execute_result"
    }
   ],
   "source": [
    "# drill down the json file\n",
    "target_list_r.json()['data']['product_summaries']"
   ]
  },
  {
   "cell_type": "code",
   "execution_count": 203,
   "id": "c137ff7c-6539-47e6-b2b4-518b75c0b391",
   "metadata": {},
   "outputs": [
    {
     "data": {
      "text/plain": [
       "{'__typename': 'ProductSummary',\n",
       " 'tcin': '81107269',\n",
       " 'fulfillment': {'product_id': '81107269',\n",
       "  'is_out_of_stock_in_all_store_locations': False,\n",
       "  'shipping_options': {'availability_status': 'IN_STOCK',\n",
       "   'loyalty_availability_status': 'IN_STOCK',\n",
       "   'available_to_promise_quantity': 399.0,\n",
       "   'minimum_order_quantity': 1.0,\n",
       "   'services': [{'shipping_method_id': 'STANDARD',\n",
       "     'min_delivery_date': '2021-07-08',\n",
       "     'max_delivery_date': '2021-07-08',\n",
       "     'is_two_day_shipping': True,\n",
       "     'is_base_shipping_method': True,\n",
       "     'service_level_description': '2-day shipping',\n",
       "     'shipping_method_short_description': 'Standard',\n",
       "     'cutoff': '2021-07-05T16:00:00Z'}]},\n",
       "  'store_options': [{'location_name': 'Brooklyn Fulton St',\n",
       "    'location_address': '445 Albee Square West,BROOKLYN,NY,11201-3016',\n",
       "    'location_id': '2850',\n",
       "    'search_response_store_type': 'PRIMARY',\n",
       "    'order_pickup': {'availability_status': 'UNAVAILABLE',\n",
       "     'reason_code': 'IN_ELIGIBLE'},\n",
       "    'in_store_only': {'availability_status': 'NOT_SOLD_IN_STORE'},\n",
       "    'ship_to_store': {'max_pickup_date': '2021-07-09',\n",
       "     'min_pickup_date': '2021-07-09',\n",
       "     'availability_status': 'IN_STOCK'}}],\n",
       "  'scheduled_delivery': {'availability_status': 'UNAVAILABLE'}}}"
      ]
     },
     "execution_count": 203,
     "metadata": {},
     "output_type": "execute_result"
    }
   ],
   "source": [
    "# drill down some more\n",
    "target_list_r.json()['data']['product_summaries'][0]"
   ]
  },
  {
   "cell_type": "markdown",
   "id": "cffa5d46-0920-42ab-b1c9-31c7e33c0714",
   "metadata": {},
   "source": [
    "## Using sessions to login\n",
    "### Accessing password-protected pages\n",
    "[Sessions object - request library](https://docs.python-requests.org/en/master/user/advanced/#session-objects)"
   ]
  },
  {
   "cell_type": "code",
   "execution_count": 170,
   "id": "7c9549ce-8812-424b-8cad-5d27a6a03280",
   "metadata": {},
   "outputs": [],
   "source": [
    "# open up a session so that your login credentials are saved"
   ]
  },
  {
   "cell_type": "code",
   "execution_count": 171,
   "id": "e9f7c1b7-c2a7-4cf6-a393-c1120c946335",
   "metadata": {},
   "outputs": [],
   "source": [
    "# load in config file with passwords"
   ]
  },
  {
   "cell_type": "code",
   "execution_count": 172,
   "id": "cf1e069d-ea0c-42ad-95b4-1aecace9c1ec",
   "metadata": {},
   "outputs": [],
   "source": [
    "# check the website for the login parameters"
   ]
  },
  {
   "cell_type": "code",
   "execution_count": 173,
   "id": "f1830a9c-621a-4a90-a53d-5c205a8e2ea7",
   "metadata": {},
   "outputs": [],
   "source": [
    "# post the payload to the site to login with the correct log in endpoint"
   ]
  },
  {
   "cell_type": "code",
   "execution_count": 174,
   "id": "b06c1117-0551-4273-8038-e2bd1ad8435f",
   "metadata": {},
   "outputs": [],
   "source": [
    "# check credentials to see if successful"
   ]
  },
  {
   "cell_type": "code",
   "execution_count": 175,
   "id": "6867fcc5-f08f-43cb-97da-48d80bb2d5bb",
   "metadata": {},
   "outputs": [],
   "source": [
    "# look at an example page to get you started with a query"
   ]
  },
  {
   "cell_type": "code",
   "execution_count": 177,
   "id": "2fa83ead-22b0-4819-aca9-23e8f04786b3",
   "metadata": {},
   "outputs": [],
   "source": [
    "# create a new post object from the example"
   ]
  },
  {
   "cell_type": "code",
   "execution_count": null,
   "id": "11dad6ae-77c2-4fd1-842b-5048b77fc199",
   "metadata": {},
   "outputs": [],
   "source": [
    "# post request for the data"
   ]
  },
  {
   "cell_type": "code",
   "execution_count": 179,
   "id": "6c5d4682-7dbb-4ff1-8b1c-cce050aad8e1",
   "metadata": {},
   "outputs": [],
   "source": [
    "# check to see what is returned"
   ]
  },
  {
   "cell_type": "code",
   "execution_count": 76,
   "id": "4a124ca1-0584-4cc6-9943-c3f27fd284fe",
   "metadata": {},
   "outputs": [
    {
     "data": {
      "text/plain": [
       "'/bundles/web/images/user-image.007dad08.svg'"
      ]
     },
     "execution_count": 76,
     "metadata": {},
     "output_type": "execute_result"
    }
   ],
   "source": []
  },
  {
   "cell_type": "code",
   "execution_count": null,
   "id": "ead2d484-c9c6-4cdd-ab78-58c2c9c9a735",
   "metadata": {},
   "outputs": [],
   "source": []
  }
 ],
 "metadata": {
  "kernelspec": {
   "display_name": "Python 3",
   "language": "python",
   "name": "python3"
  },
  "language_info": {
   "codemirror_mode": {
    "name": "ipython",
    "version": 3
   },
   "file_extension": ".py",
   "mimetype": "text/x-python",
   "name": "python",
   "nbconvert_exporter": "python",
   "pygments_lexer": "ipython3",
   "version": "3.8.10"
  }
 },
 "nbformat": 4,
 "nbformat_minor": 5
}
