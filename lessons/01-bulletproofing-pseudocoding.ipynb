{
 "cells": [
  {
   "cell_type": "markdown",
   "metadata": {},
   "source": [
    "# Data module class 1 walkthroughs\n",
    "1. [Markdown reference](#markdown-reference)\n",
    "1. [Pseudocoding reference](#pseudocoding-reference)\n",
    "1. [Bulletproofing your data, pseudocode and documentation practice](#bulletproofing-your-data)"
   ]
  },
  {
   "cell_type": "markdown",
   "metadata": {},
   "source": [
    "## Markdown reference\n",
    "\n",
    "```\n",
    "# Heading 1\n",
    "\n",
    "* Unordered list\n",
    "* Unordered list\n",
    "\n",
    "## Heading 2\n",
    "\n",
    "1. Ordered list\n",
    "1. Ordered list\n",
    "\n",
    "### Heading 3\n",
    "\n",
    "**Bold**\n",
    "\n",
    "#### Heading 4\n",
    "\n",
    "_Italics_\n",
    "\n",
    "##### Heading 5\n",
    "\n",
    "[Link](https://google.com)\n",
    "\n",
    "###### Heading 6\n",
    "```"
   ]
  },
  {
   "cell_type": "markdown",
   "metadata": {},
   "source": [
    "## Pseudocoding reference\n",
    "\n",
    "![Pseudocoding keywords](media/pseudocode-keywords.png)\n",
    "Source: [Sara A. Metwalli - Toward Data Science](https://towardsdatascience.com/pseudocode-101-an-introduction-to-writing-good-pseudocode-1331cb855be7)"
   ]
  },
  {
   "cell_type": "markdown",
   "metadata": {},
   "source": [
    "## 2. Bulletproofing your data\n",
    "### Reference\n",
    "- [Bulletproofing your data - ProPublica](https://github.com/propublica/guides/blob/master/data-bulletproofing.md)\n",
    "- [The Quartz guide to bad data](https://github.com/Quartz/bad-data-guide)"
   ]
  },
  {
   "cell_type": "code",
   "execution_count": 1,
   "metadata": {},
   "outputs": [
    {
     "name": "stderr",
     "output_type": "stream",
     "text": [
      "/Users/yingzhao/.pyenv/versions/3.8.10/lib/python3.8/site-packages/pandas/compat/__init__.py:97: UserWarning: Could not import the lzma module. Your installed Python is incomplete. Attempting to use lzma compression will result in a RuntimeError.\n",
      "  warnings.warn(msg)\n"
     ]
    }
   ],
   "source": [
    "# import your libraries here\n",
    "import pandas as pd"
   ]
  },
  {
   "cell_type": "markdown",
   "metadata": {},
   "source": [
    "### Practice\n",
    "#### FED board of directors (together)\n",
    "##### 1. Download\n",
    "[Diversity in the FED - Brookings Institute](https://www.brookings.edu/research/diversity-within-the-federal-reserve-system/) | [Documentation](https://www.brookings.edu/wp-content/uploads/2021/04/Biographical-Database-Overview.pdf) | [Brooklings Analysis](https://www.brookings.edu/wp-content/uploads/2021/04/Appendices-Directors-by-race-gender-and-bank.pdf)"
   ]
  },
  {
   "cell_type": "code",
   "execution_count": 4,
   "metadata": {},
   "outputs": [
    {
     "data": {
      "text/html": [
       "<div>\n",
       "<style scoped>\n",
       "    .dataframe tbody tr th:only-of-type {\n",
       "        vertical-align: middle;\n",
       "    }\n",
       "\n",
       "    .dataframe tbody tr th {\n",
       "        vertical-align: top;\n",
       "    }\n",
       "\n",
       "    .dataframe thead th {\n",
       "        text-align: right;\n",
       "    }\n",
       "</style>\n",
       "<table border=\"1\" class=\"dataframe\">\n",
       "  <thead>\n",
       "    <tr style=\"text-align: right;\">\n",
       "      <th></th>\n",
       "      <th>Name</th>\n",
       "      <th>District Number</th>\n",
       "      <th>District Name</th>\n",
       "      <th>Class</th>\n",
       "      <th>Group</th>\n",
       "      <th>TD1: Degree</th>\n",
       "      <th>TD1: Major/Field</th>\n",
       "      <th>TD1: School</th>\n",
       "      <th>TD1: Year</th>\n",
       "      <th>TD2: Degree</th>\n",
       "      <th>...</th>\n",
       "      <th>Age at Start</th>\n",
       "      <th>FOMC Combined</th>\n",
       "      <th>FOMC Pre-reorg</th>\n",
       "      <th>FOMC Pre Start Year</th>\n",
       "      <th>FOMC Pre End Year</th>\n",
       "      <th>FOMC Post-reorg</th>\n",
       "      <th>FOMC Post Start Year</th>\n",
       "      <th>FOMC Post End Year</th>\n",
       "      <th>Start Year (pos.)</th>\n",
       "      <th>End Year (pos.)</th>\n",
       "    </tr>\n",
       "  </thead>\n",
       "  <tbody>\n",
       "    <tr>\n",
       "      <th>0</th>\n",
       "      <td>Buckner A. McKinney</td>\n",
       "      <td>11</td>\n",
       "      <td>Dallas</td>\n",
       "      <td>A</td>\n",
       "      <td>3.0</td>\n",
       "      <td>JD</td>\n",
       "      <td>Law</td>\n",
       "      <td>?</td>\n",
       "      <td>?</td>\n",
       "      <td>-</td>\n",
       "      <td>...</td>\n",
       "      <td>42</td>\n",
       "      <td>President, FRB Dallas &amp; Governor, FRB Dallas</td>\n",
       "      <td>Governor, FRB Dallas</td>\n",
       "      <td>1922</td>\n",
       "      <td>1925</td>\n",
       "      <td>President, FRB Dallas</td>\n",
       "      <td>1931</td>\n",
       "      <td>1939</td>\n",
       "      <td>1914</td>\n",
       "      <td>1921</td>\n",
       "    </tr>\n",
       "    <tr>\n",
       "      <th>1</th>\n",
       "      <td>David C. Wills</td>\n",
       "      <td>4</td>\n",
       "      <td>Cleveland</td>\n",
       "      <td>T</td>\n",
       "      <td>NaN</td>\n",
       "      <td>None</td>\n",
       "      <td>None</td>\n",
       "      <td>None</td>\n",
       "      <td>None</td>\n",
       "      <td>-</td>\n",
       "      <td>...</td>\n",
       "      <td>42</td>\n",
       "      <td>Member, Federal Reserve Board</td>\n",
       "      <td>Member, Federal Reserve Board</td>\n",
       "      <td>1920</td>\n",
       "      <td>1921</td>\n",
       "      <td>-</td>\n",
       "      <td>-</td>\n",
       "      <td>-</td>\n",
       "      <td>1914</td>\n",
       "      <td>1919</td>\n",
       "    </tr>\n",
       "    <tr>\n",
       "      <th>2</th>\n",
       "      <td>James K. Lynch</td>\n",
       "      <td>12</td>\n",
       "      <td>San Francisco</td>\n",
       "      <td>A</td>\n",
       "      <td>2.0</td>\n",
       "      <td>None</td>\n",
       "      <td>None</td>\n",
       "      <td>None</td>\n",
       "      <td>None</td>\n",
       "      <td>-</td>\n",
       "      <td>...</td>\n",
       "      <td>57</td>\n",
       "      <td>Governor, FRB San Francisco</td>\n",
       "      <td>Governor, FRB San Francisco</td>\n",
       "      <td>1917</td>\n",
       "      <td>1919</td>\n",
       "      <td>-</td>\n",
       "      <td>-</td>\n",
       "      <td>-</td>\n",
       "      <td>1914</td>\n",
       "      <td>1916</td>\n",
       "    </tr>\n",
       "    <tr>\n",
       "      <th>3</th>\n",
       "      <td>George J. Seay</td>\n",
       "      <td>5</td>\n",
       "      <td>Richmond</td>\n",
       "      <td>B</td>\n",
       "      <td>1.0</td>\n",
       "      <td>None</td>\n",
       "      <td>None</td>\n",
       "      <td>None</td>\n",
       "      <td>None</td>\n",
       "      <td>-</td>\n",
       "      <td>...</td>\n",
       "      <td>52</td>\n",
       "      <td>Governor, FRB Richmond</td>\n",
       "      <td>Governor, FRB Richmond</td>\n",
       "      <td>1914</td>\n",
       "      <td>1936</td>\n",
       "      <td>President, FRB Richmond</td>\n",
       "      <td>1914</td>\n",
       "      <td>1936</td>\n",
       "      <td>1914</td>\n",
       "      <td>1914</td>\n",
       "    </tr>\n",
       "    <tr>\n",
       "      <th>4</th>\n",
       "      <td>George W. Norris</td>\n",
       "      <td>3</td>\n",
       "      <td>Philadelphia</td>\n",
       "      <td>C</td>\n",
       "      <td>NaN</td>\n",
       "      <td>None</td>\n",
       "      <td>None</td>\n",
       "      <td>None</td>\n",
       "      <td>None</td>\n",
       "      <td>-</td>\n",
       "      <td>...</td>\n",
       "      <td>50</td>\n",
       "      <td>Governor, FRB Philadelphia</td>\n",
       "      <td>Governor, FRB Philadelphia</td>\n",
       "      <td>1920</td>\n",
       "      <td>1936</td>\n",
       "      <td>President, FRB Philadelphia</td>\n",
       "      <td>1920</td>\n",
       "      <td>1936</td>\n",
       "      <td>1914</td>\n",
       "      <td>1914</td>\n",
       "    </tr>\n",
       "  </tbody>\n",
       "</table>\n",
       "<p>5 rows × 31 columns</p>\n",
       "</div>"
      ],
      "text/plain": [
       "                  Name  District Number  District Name Class  Group  \\\n",
       "0  Buckner A. McKinney               11         Dallas     A    3.0   \n",
       "1       David C. Wills                4      Cleveland     T    NaN   \n",
       "2       James K. Lynch               12  San Francisco     A    2.0   \n",
       "3       George J. Seay                5       Richmond     B    1.0   \n",
       "4     George W. Norris                3   Philadelphia     C    NaN   \n",
       "\n",
       "  TD1: Degree TD1: Major/Field TD1: School TD1: Year TD2: Degree  ...  \\\n",
       "0          JD              Law           ?         ?           -  ...   \n",
       "1        None             None        None      None           -  ...   \n",
       "2        None             None        None      None           -  ...   \n",
       "3        None             None        None      None           -  ...   \n",
       "4        None             None        None      None           -  ...   \n",
       "\n",
       "  Age at Start                                 FOMC Combined  \\\n",
       "0           42  President, FRB Dallas & Governor, FRB Dallas   \n",
       "1           42                 Member, Federal Reserve Board   \n",
       "2           57                   Governor, FRB San Francisco   \n",
       "3           52                        Governor, FRB Richmond   \n",
       "4           50                    Governor, FRB Philadelphia   \n",
       "\n",
       "                  FOMC Pre-reorg FOMC Pre Start Year FOMC Pre End Year  \\\n",
       "0           Governor, FRB Dallas                1922              1925   \n",
       "1  Member, Federal Reserve Board                1920              1921   \n",
       "2    Governor, FRB San Francisco                1917              1919   \n",
       "3         Governor, FRB Richmond                1914              1936   \n",
       "4     Governor, FRB Philadelphia                1920              1936   \n",
       "\n",
       "               FOMC Post-reorg FOMC Post Start Year FOMC Post End Year  \\\n",
       "0        President, FRB Dallas                 1931               1939   \n",
       "1                            -                    -                  -   \n",
       "2                            -                    -                  -   \n",
       "3      President, FRB Richmond                 1914               1936   \n",
       "4  President, FRB Philadelphia                 1920               1936   \n",
       "\n",
       "  Start Year (pos.) End Year (pos.)  \n",
       "0              1914            1921  \n",
       "1              1914            1919  \n",
       "2              1914            1916  \n",
       "3              1914            1914  \n",
       "4              1914            1914  \n",
       "\n",
       "[5 rows x 31 columns]"
      ]
     },
     "execution_count": 4,
     "metadata": {},
     "output_type": "execute_result"
    }
   ],
   "source": [
    "# download to the assets folder and import the file\n",
    "df_bod = pd.read_excel('Biographical-database-BoD-Unique-Positions.xlsx')\n",
    "df_bod.head()"
   ]
  },
  {
   "cell_type": "markdown",
   "metadata": {},
   "source": [
    "##### 2. Follow Quartz's guide to bad data: Issues that your source should solve\n",
    "[Issues that your source should solve](https://github.com/Quartz/bad-data-guide#issues-that-your-source-should-solve)\n",
    "\n",
    "##### Only start with documentation, then move to pseudocode, then start writing python"
   ]
  },
  {
   "cell_type": "code",
   "execution_count": 5,
   "metadata": {},
   "outputs": [
    {
     "data": {
      "text/plain": [
       "(2607, 31)"
      ]
     },
     "execution_count": 5,
     "metadata": {},
     "output_type": "execute_result"
    }
   ],
   "source": [
    "# check numbers of columns and rows\n",
    "df_bod.shape"
   ]
  },
  {
   "cell_type": "code",
   "execution_count": null,
   "metadata": {},
   "outputs": [],
   "source": [
    "# check for dates of 1900, 2904, 1969, 1970 in Start Year and End Year\n"
   ]
  },
  {
   "cell_type": "markdown",
   "metadata": {},
   "source": [
    "#### New York State budget (individual)\n",
    "##### 1. Download and save to assets folder\n",
    "[NY State budget and actuals](https://openbudget.ny.gov/spendingForm.html) (Click the download link at the bottom of the page)"
   ]
  },
  {
   "cell_type": "code",
   "execution_count": null,
   "metadata": {},
   "outputs": [],
   "source": []
  },
  {
   "cell_type": "markdown",
   "metadata": {},
   "source": [
    "##### 2. Follow Quartz's guide to bad data: Issues that your source should solve\n",
    "[Issues that your source should solve](https://github.com/Quartz/bad-data-guide#issues-that-your-source-should-solve)\n",
    "\n",
    "##### Only start with documentation, then move to pseudocode, then start writing python"
   ]
  },
  {
   "cell_type": "code",
   "execution_count": null,
   "metadata": {},
   "outputs": [],
   "source": []
  },
  {
   "cell_type": "markdown",
   "metadata": {},
   "source": [
    "#### New York City payroll (individual)\n",
    "##### 1. Download and save to assets folder\n",
    "[Citywide payroll data - filter by fiscal year 2020](https://data.cityofnewyork.us/City-Government/Citywide-Payroll-Data-Fiscal-Year-/k397-673e/data) then export as a CSV or else the file will be too large"
   ]
  },
  {
   "cell_type": "code",
   "execution_count": 4,
   "metadata": {},
   "outputs": [],
   "source": []
  },
  {
   "cell_type": "markdown",
   "metadata": {},
   "source": [
    "##### 2. Follow Quartz's guide to bad data: Issues that your source should solve\n",
    "[Issues that your source should solve](https://github.com/Quartz/bad-data-guide#issues-that-your-source-should-solve)\n",
    "\n",
    "##### Only start with documentation, then move to pseudocode, then start writing python"
   ]
  }
 ],
 "metadata": {
  "kernelspec": {
   "display_name": "Python 3",
   "language": "python",
   "name": "python3"
  },
  "language_info": {
   "codemirror_mode": {
    "name": "ipython",
    "version": 3
   },
   "file_extension": ".py",
   "mimetype": "text/x-python",
   "name": "python",
   "nbconvert_exporter": "python",
   "pygments_lexer": "ipython3",
   "version": "3.8.10"
  }
 },
 "nbformat": 4,
 "nbformat_minor": 4
}
