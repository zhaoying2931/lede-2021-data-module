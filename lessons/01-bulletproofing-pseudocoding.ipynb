{
 "cells": [
  {
   "cell_type": "markdown",
   "metadata": {},
   "source": [
    "# Data module class 1 walkthroughs\n",
    "1. [Markdown reference](#markdown-reference)\n",
    "1. [Pseudocoding reference](#pseudocoding-reference)\n",
    "1. [Bulletproofing your data, pseudocode and documentation practice](#bulletproofing-your-data)"
   ]
  },
  {
   "cell_type": "markdown",
   "metadata": {},
   "source": [
    "## Markdown reference\n",
    "\n",
    "```\n",
    "# Heading 1\n",
    "\n",
    "* Unordered list\n",
    "* Unordered list\n",
    "\n",
    "## Heading 2\n",
    "\n",
    "1. Ordered list\n",
    "1. Ordered list\n",
    "\n",
    "### Heading 3\n",
    "\n",
    "**Bold**\n",
    "\n",
    "#### Heading 4\n",
    "\n",
    "_Italics_\n",
    "\n",
    "##### Heading 5\n",
    "\n",
    "[Link](https://google.com)\n",
    "\n",
    "###### Heading 6\n",
    "```"
   ]
  },
  {
   "cell_type": "markdown",
   "metadata": {},
   "source": [
    "## Pseudocoding reference\n",
    "\n",
    "![Pseudocoding keywords](media/pseudocode-keywords.png)\n",
    "Source: [Sara A. Metwalli - Toward Data Science](https://towardsdatascience.com/pseudocode-101-an-introduction-to-writing-good-pseudocode-1331cb855be7)"
   ]
  },
  {
   "cell_type": "markdown",
   "metadata": {},
   "source": [
    "## 2. Bulletproofing your data\n",
    "### Reference\n",
    "- [Bulletproofing your data - ProPublica](https://github.com/propublica/guides/blob/master/data-bulletproofing.md)\n",
    "- [The Quartz guide to bad data](https://github.com/Quartz/bad-data-guide)"
   ]
  },
  {
   "cell_type": "code",
   "execution_count": 3,
   "metadata": {},
   "outputs": [],
   "source": [
    "# import your libraries here"
   ]
  },
  {
   "cell_type": "markdown",
   "metadata": {},
   "source": [
    "### Practice\n",
    "#### FED board of directors (together)\n",
    "##### 1. Download\n",
    "[Diversity in the FED - Brookings Institute](https://www.brookings.edu/research/diversity-within-the-federal-reserve-system/) | [Documentation](https://www.brookings.edu/wp-content/uploads/2021/04/Biographical-Database-Overview.pdf) | [Brooklings Analysis](https://www.brookings.edu/wp-content/uploads/2021/04/Appendices-Directors-by-race-gender-and-bank.pdf)"
   ]
  },
  {
   "cell_type": "code",
   "execution_count": 1,
   "metadata": {},
   "outputs": [],
   "source": [
    "# download to the assets folder and import the file"
   ]
  },
  {
   "cell_type": "markdown",
   "metadata": {},
   "source": [
    "##### 2. Follow Quartz's guide to bad data: Issues that your source should solve\n",
    "[Issues that your source should solve](https://github.com/Quartz/bad-data-guide#issues-that-your-source-should-solve)\n",
    "\n",
    "##### Only start with documentation, then move to pseudocode, then start writing python"
   ]
  },
  {
   "cell_type": "code",
   "execution_count": null,
   "metadata": {},
   "outputs": [],
   "source": []
  },
  {
   "cell_type": "markdown",
   "metadata": {},
   "source": [
    "#### New York State budget (individual)\n",
    "##### 1. Download and save to assets folder\n",
    "[NY State budget and actuals](https://openbudget.ny.gov/spendingForm.html) (Click the download link at the bottom of the page)"
   ]
  },
  {
   "cell_type": "code",
   "execution_count": null,
   "metadata": {},
   "outputs": [],
   "source": []
  },
  {
   "cell_type": "markdown",
   "metadata": {},
   "source": [
    "##### 2. Follow Quartz's guide to bad data: Issues that your source should solve\n",
    "[Issues that your source should solve](https://github.com/Quartz/bad-data-guide#issues-that-your-source-should-solve)\n",
    "\n",
    "##### Only start with documentation, then move to pseudocode, then start writing python"
   ]
  },
  {
   "cell_type": "code",
   "execution_count": null,
   "metadata": {},
   "outputs": [],
   "source": []
  },
  {
   "cell_type": "markdown",
   "metadata": {},
   "source": [
    "#### New York City payroll (individual)\n",
    "##### 1. Download and save to assets folder\n",
    "[Citywide payroll data - filter by fiscal year 2020](https://data.cityofnewyork.us/City-Government/Citywide-Payroll-Data-Fiscal-Year-/k397-673e/data) then export as a CSV or else the file will be too large"
   ]
  },
  {
   "cell_type": "code",
   "execution_count": 4,
   "metadata": {},
   "outputs": [],
   "source": []
  },
  {
   "cell_type": "markdown",
   "metadata": {},
   "source": [
    "##### 2. Follow Quartz's guide to bad data: Issues that your source should solve\n",
    "[Issues that your source should solve](https://github.com/Quartz/bad-data-guide#issues-that-your-source-should-solve)\n",
    "\n",
    "##### Only start with documentation, then move to pseudocode, then start writing python"
   ]
  }
 ],
 "metadata": {
  "kernelspec": {
   "display_name": "Python 3",
   "language": "python",
   "name": "python3"
  },
  "language_info": {
   "codemirror_mode": {
    "name": "ipython",
    "version": 3
   },
   "file_extension": ".py",
   "mimetype": "text/x-python",
   "name": "python",
   "nbconvert_exporter": "python",
   "pygments_lexer": "ipython3",
   "version": "3.8.10"
  }
 },
 "nbformat": 4,
 "nbformat_minor": 4
}
