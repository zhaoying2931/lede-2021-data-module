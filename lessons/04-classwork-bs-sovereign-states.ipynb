{
 "cells": [
  {
   "cell_type": "markdown",
   "id": "384edd27-ab7f-409c-8881-edf70501f42e",
   "metadata": {},
   "source": [
    "# 04 - More BeautifulSoup practice\n",
    "Using the soverign states Wikipedia page, you're going to identify different parts of the unconventionally "
   ]
  },
  {
   "cell_type": "markdown",
   "id": "cd9a24f2-5614-4787-92a5-963dec15bd3f",
   "metadata": {},
   "source": [
    "## 1. Select all the rows of the first table on the page"
   ]
  },
  {
   "cell_type": "code",
   "execution_count": 73,
   "id": "79dbee50-2da4-4eb8-b9ac-fb0bf4c08bb0",
   "metadata": {},
   "outputs": [],
   "source": [
    "import pandas as pd\n",
    "from bs4 import BeautifulSoup\n",
    "import requests\n",
    "\n",
    "pd.set_option('display.max_rows', 255)"
   ]
  },
  {
   "cell_type": "code",
   "execution_count": 118,
   "id": "006a8dc5-658b-4c01-babd-2824a74a8713",
   "metadata": {},
   "outputs": [],
   "source": [
    "# soverign states wikipedia url\n",
    "states_url = 'https://en.wikipedia.org/wiki/List_of_sovereign_states'"
   ]
  },
  {
   "cell_type": "code",
   "execution_count": 1,
   "id": "692ac449-c371-4e8b-a881-2c769bbe207a",
   "metadata": {},
   "outputs": [],
   "source": [
    "# request the page using GET request"
   ]
  },
  {
   "cell_type": "code",
   "execution_count": 2,
   "id": "8347e81b-9dd4-4d01-acb6-a691ec8490e7",
   "metadata": {},
   "outputs": [],
   "source": [
    "# create a beautifulsoup object"
   ]
  },
  {
   "cell_type": "code",
   "execution_count": 3,
   "id": "78b99568-fd4f-4bc6-83e0-76737b9a1d68",
   "metadata": {},
   "outputs": [],
   "source": [
    "# select the first table"
   ]
  },
  {
   "cell_type": "code",
   "execution_count": 4,
   "id": "5ee86266-0e41-4bfe-8554-658f855678a1",
   "metadata": {},
   "outputs": [],
   "source": [
    "# select all the rows"
   ]
  },
  {
   "cell_type": "markdown",
   "id": "661ae4e8-1b62-45f6-8264-a384a883c635",
   "metadata": {},
   "source": [
    "## 2. Extract text only from all td tags\n",
    "You'll do this to identify where to separate the two tables"
   ]
  },
  {
   "cell_type": "code",
   "execution_count": 5,
   "id": "be30d187-100f-4340-8959-648880768a54",
   "metadata": {},
   "outputs": [],
   "source": [
    "# loop through all the rows and extract only the text"
   ]
  },
  {
   "cell_type": "code",
   "execution_count": 6,
   "id": "f3a8e4ba-9ccf-41ce-a84c-95d1a804c241",
   "metadata": {},
   "outputs": [],
   "source": [
    "# separate the first table from the second with list indexing"
   ]
  },
  {
   "cell_type": "code",
   "execution_count": 7,
   "id": "d52cc499-7cf2-455c-b6c1-788fb46d92d3",
   "metadata": {},
   "outputs": [],
   "source": [
    "# check the first couple of entries"
   ]
  },
  {
   "cell_type": "code",
   "execution_count": 8,
   "id": "ef088d34-bf36-4ed6-8730-9ead7a2da7fb",
   "metadata": {},
   "outputs": [],
   "source": [
    "# separate the second table from the first with list indexing"
   ]
  },
  {
   "cell_type": "code",
   "execution_count": 9,
   "id": "23272bac-bb7a-4f81-a4b1-dd699a37fd9e",
   "metadata": {},
   "outputs": [],
   "source": [
    "# check the first couple of entries"
   ]
  },
  {
   "cell_type": "markdown",
   "id": "ac586f10-e00b-4ecd-8256-7b1df29d1ab6",
   "metadata": {},
   "source": [
    "## 3. Explore further the contents of each table\n",
    "### a. States (table 1)\n",
    "![image](../answers/assets/sovereign-states-tr.png)"
   ]
  },
  {
   "cell_type": "code",
   "execution_count": 10,
   "id": "47592eb2-2a71-4ac6-9af4-a5a1d62f5745",
   "metadata": {},
   "outputs": [],
   "source": [
    "# now separate the list based on the information we found from the data frames above and gather the nested tags from each td tag\n",
    "# we also don't want rows where there is a td of colspan 4"
   ]
  },
  {
   "cell_type": "markdown",
   "id": "6cf72829-a319-4696-8f2c-a47c34dce05c",
   "metadata": {},
   "source": [
    "This is the same information as the image above except in a BeautifulSoup object and not html. Identify what information might be useful apart from the text within each td tag.\n",
    "\n",
    "- \n",
    "- \n",
    "- "
   ]
  },
  {
   "cell_type": "markdown",
   "id": "0d380a2f-a1bd-43c9-a498-262c9eb60beb",
   "metadata": {},
   "source": [
    "Find those attributes in a single row using one row to help"
   ]
  },
  {
   "cell_type": "code",
   "execution_count": 11,
   "id": "3fb27f9d-7f20-457d-9773-6e2f4d927116",
   "metadata": {},
   "outputs": [],
   "source": [
    "# assign a list item to a variable (i.e. country_name = list[index])"
   ]
  },
  {
   "cell_type": "code",
   "execution_count": 13,
   "id": "37438fc2-f33b-4812-8666-941f1a974c22",
   "metadata": {},
   "outputs": [],
   "source": [
    "# check the results"
   ]
  },
  {
   "cell_type": "code",
   "execution_count": 14,
   "id": "66677c86-3e2b-4796-a2d7-e8b997d71997",
   "metadata": {},
   "outputs": [],
   "source": [
    "# find attribute 1"
   ]
  },
  {
   "cell_type": "code",
   "execution_count": 15,
   "id": "a54848de-6ab7-446c-ba77-0fa747ee86b6",
   "metadata": {},
   "outputs": [],
   "source": [
    "# find attribute 2"
   ]
  },
  {
   "cell_type": "code",
   "execution_count": 16,
   "id": "9e63576c-54fa-4912-b560-7f38dedfb501",
   "metadata": {},
   "outputs": [],
   "source": [
    "# find attribute 3"
   ]
  },
  {
   "cell_type": "markdown",
   "id": "b7977b82-6053-47b5-9719-4f061a579212",
   "metadata": {},
   "source": [
    "### b. Other states"
   ]
  },
  {
   "cell_type": "markdown",
   "id": "edf6add9-5efe-4c2b-9818-0512292f954e",
   "metadata": {},
   "source": [
    "### a. Other states (table 2)\n",
    "![image](../answers/assets/sovereign-states-other-tr-1.png)\n",
    "![image](../answers/assets/sovereign-states-other-tr-2.png)"
   ]
  },
  {
   "cell_type": "code",
   "execution_count": 17,
   "id": "725d7126-f19f-4afa-8b77-8667609d8f73",
   "metadata": {},
   "outputs": [],
   "source": [
    "# create a list of lists of td tags for the second table"
   ]
  },
  {
   "cell_type": "markdown",
   "id": "7fb96abd-b562-4fd8-9498-096c1041e0d1",
   "metadata": {},
   "source": [
    "This is the same information as the image above except in a BeautifulSoup object and not html. Identify what information might be useful apart from the text within each td tag.\n",
    "\n",
    "- \n",
    "- \n",
    "- "
   ]
  },
  {
   "cell_type": "markdown",
   "id": "a3dcf719-684f-4cdb-baa2-39b4ee3627a0",
   "metadata": {},
   "source": [
    "Find those attributes in a single row "
   ]
  },
  {
   "cell_type": "code",
   "execution_count": 18,
   "id": "99b72bf3-4f53-4b83-9c9b-08d0e4b9f108",
   "metadata": {},
   "outputs": [],
   "source": [
    "# (i.e. abkhazia = list[index])"
   ]
  },
  {
   "cell_type": "code",
   "execution_count": 20,
   "id": "297b2635-8f49-43ca-b565-7b7001568891",
   "metadata": {},
   "outputs": [],
   "source": [
    "# check the results"
   ]
  },
  {
   "cell_type": "code",
   "execution_count": 21,
   "id": "3db1e5ad-cb4b-4a5d-b209-5d829e8f4267",
   "metadata": {},
   "outputs": [],
   "source": [
    "# find attribute 1"
   ]
  },
  {
   "cell_type": "code",
   "execution_count": 22,
   "id": "98ebadc5-0bbc-4244-a4c0-953ddf01cf6a",
   "metadata": {},
   "outputs": [],
   "source": [
    "# find attribute 2"
   ]
  },
  {
   "cell_type": "code",
   "execution_count": 23,
   "id": "7b154140-a202-4bb4-81b0-ba59a1e7026e",
   "metadata": {},
   "outputs": [],
   "source": [
    "# find attribute 3"
   ]
  },
  {
   "cell_type": "markdown",
   "id": "2cd4cf07-8859-4ff3-a047-272645e9e305",
   "metadata": {},
   "source": [
    "## 4. Extract the information from step 3 for each row\n",
    "Create a header row based on the new columns created\n",
    "### a. States"
   ]
  },
  {
   "cell_type": "code",
   "execution_count": 269,
   "id": "5a0507bd-89cb-431b-9d00-6ba26cc0a033",
   "metadata": {},
   "outputs": [],
   "source": [
    "# apply to all rows the BeautifulSoup queries written for one row in 3a\n",
    "# for each row in a list of trs\n",
    "#     for each td in a list oftds"
   ]
  },
  {
   "cell_type": "code",
   "execution_count": 24,
   "id": "40632e54-8e7e-404e-a918-647a183340be",
   "metadata": {},
   "outputs": [],
   "source": [
    "# create a dataframe from the list created above"
   ]
  },
  {
   "cell_type": "code",
   "execution_count": 26,
   "id": "133852b7-6cd1-4e79-8e7e-011f3a476b01",
   "metadata": {},
   "outputs": [],
   "source": [
    "# rename the columns for the new dataframe"
   ]
  },
  {
   "cell_type": "code",
   "execution_count": 27,
   "id": "e485581e-407a-4d8b-9a30-ef48b5a3d41b",
   "metadata": {},
   "outputs": [],
   "source": [
    "# check the results"
   ]
  },
  {
   "cell_type": "markdown",
   "id": "1a0a6633-4eec-491a-bab4-b18822c49e02",
   "metadata": {},
   "source": [
    "### b. Other states"
   ]
  },
  {
   "cell_type": "code",
   "execution_count": 269,
   "id": "48d649b0-5bbb-4912-85c5-794c713b216b",
   "metadata": {},
   "outputs": [],
   "source": [
    "# apply to all rows the BeautifulSoup queries written for one row in 3a\n",
    "# for each row in a list of trs\n",
    "#     for each td in a list oftds"
   ]
  },
  {
   "cell_type": "code",
   "execution_count": 24,
   "id": "7e2f1b74-0e6b-4f86-a678-12302a9b21de",
   "metadata": {},
   "outputs": [],
   "source": [
    "# create a dataframe from the list created above"
   ]
  },
  {
   "cell_type": "code",
   "execution_count": 26,
   "id": "084ed568-76b8-4e1e-8d92-c62825c2e541",
   "metadata": {},
   "outputs": [],
   "source": [
    "# rename the columns for the new dataframe"
   ]
  },
  {
   "cell_type": "code",
   "execution_count": 27,
   "id": "dc06423f-6b98-4f3b-875d-434eaf96201e",
   "metadata": {},
   "outputs": [],
   "source": [
    "# check the results"
   ]
  },
  {
   "cell_type": "code",
   "execution_count": null,
   "id": "acdf7b46-d7e4-4074-ae06-862d0ff9becb",
   "metadata": {},
   "outputs": [],
   "source": []
  }
 ],
 "metadata": {
  "kernelspec": {
   "display_name": "Python 3",
   "language": "python",
   "name": "python3"
  },
  "language_info": {
   "codemirror_mode": {
    "name": "ipython",
    "version": 3
   },
   "file_extension": ".py",
   "mimetype": "text/x-python",
   "name": "python",
   "nbconvert_exporter": "python",
   "pygments_lexer": "ipython3",
   "version": "3.8.10"
  }
 },
 "nbformat": 4,
 "nbformat_minor": 5
}
